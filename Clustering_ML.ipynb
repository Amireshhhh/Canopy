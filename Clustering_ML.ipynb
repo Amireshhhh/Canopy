{
 "cells": [
  {
   "cell_type": "code",
   "execution_count": 1,
   "id": "9ba37d00",
   "metadata": {},
   "outputs": [],
   "source": [
    "import pandas as pd\n",
    "import matplotlib.pyplot as plt\n",
    "import os\n",
    "import geopandas as gpd"
   ]
  },
  {
   "cell_type": "code",
   "execution_count": 2,
   "id": "11d9f2d8",
   "metadata": {},
   "outputs": [],
   "source": [
    "os.chdir(\"/Users/amirreza/Desktop\")\n",
    "df=pd.read_csv(\"data2.csv\")"
   ]
  },
  {
   "cell_type": "code",
   "execution_count": 3,
   "id": "c84b316b",
   "metadata": {},
   "outputs": [],
   "source": [
    "os.chdir(\"/Users/amirreza/Desktop/Neighborhoods_2012\")\n",
    "bounds= gpd.read_file(\"Neighborhoods_2012b.shp\")"
   ]
  },
  {
   "cell_type": "code",
   "execution_count": 4,
   "id": "991b381a",
   "metadata": {},
   "outputs": [],
   "source": [
    "df[\"Canopy\"]=df[\"Canopy\"]*0.01"
   ]
  },
  {
   "cell_type": "code",
   "execution_count": 5,
   "id": "99750613",
   "metadata": {},
   "outputs": [
    {
     "data": {
      "text/html": [
       "<div>\n",
       "<style scoped>\n",
       "    .dataframe tbody tr th:only-of-type {\n",
       "        vertical-align: middle;\n",
       "    }\n",
       "\n",
       "    .dataframe tbody tr th {\n",
       "        vertical-align: top;\n",
       "    }\n",
       "\n",
       "    .dataframe thead th {\n",
       "        text-align: right;\n",
       "    }\n",
       "</style>\n",
       "<table border=\"1\" class=\"dataframe\">\n",
       "  <thead>\n",
       "    <tr style=\"text-align: right;\">\n",
       "      <th></th>\n",
       "      <th>Neighborhood</th>\n",
       "      <th>Total Area</th>\n",
       "      <th>Redlined Area</th>\n",
       "      <th>Redlined</th>\n",
       "      <th>Yellowlined Area</th>\n",
       "      <th>Yellowlined</th>\n",
       "      <th>Bluelined Area</th>\n",
       "      <th>Bluelined</th>\n",
       "      <th>Greenlined Area</th>\n",
       "      <th>Greenlined</th>\n",
       "      <th>% Unlined</th>\n",
       "      <th>Score'</th>\n",
       "      <th>Park Area</th>\n",
       "      <th>Park</th>\n",
       "      <th>Canopy</th>\n",
       "      <th>% Canopy</th>\n",
       "    </tr>\n",
       "  </thead>\n",
       "  <tbody>\n",
       "    <tr>\n",
       "      <th>0</th>\n",
       "      <td>Albany Park</td>\n",
       "      <td>4.974188e+06</td>\n",
       "      <td>0.00</td>\n",
       "      <td>0.00</td>\n",
       "      <td>400667842.00%</td>\n",
       "      <td>0.81</td>\n",
       "      <td>60590845.80%</td>\n",
       "      <td>0.12</td>\n",
       "      <td>0.00%</td>\n",
       "      <td>0.00</td>\n",
       "      <td>7.27%</td>\n",
       "      <td>0.33</td>\n",
       "      <td>115325.44000</td>\n",
       "      <td>0.02</td>\n",
       "      <td>0.2413</td>\n",
       "      <td>24.13%</td>\n",
       "    </tr>\n",
       "    <tr>\n",
       "      <th>1</th>\n",
       "      <td>Andersonville</td>\n",
       "      <td>8.904190e+05</td>\n",
       "      <td>0.00</td>\n",
       "      <td>0.00</td>\n",
       "      <td>89041897.20%</td>\n",
       "      <td>1.00</td>\n",
       "      <td>0.00%</td>\n",
       "      <td>0.00</td>\n",
       "      <td>0.00%</td>\n",
       "      <td>0.00</td>\n",
       "      <td>0.00%</td>\n",
       "      <td>0.25</td>\n",
       "      <td>3455.54852</td>\n",
       "      <td>0.00</td>\n",
       "      <td>0.2447</td>\n",
       "      <td>24.47%</td>\n",
       "    </tr>\n",
       "    <tr>\n",
       "      <th>2</th>\n",
       "      <td>Archer Heights</td>\n",
       "      <td>5.195324e+06</td>\n",
       "      <td>534253.00</td>\n",
       "      <td>0.10</td>\n",
       "      <td>147897732.00%</td>\n",
       "      <td>0.28</td>\n",
       "      <td>0.00%</td>\n",
       "      <td>0.00</td>\n",
       "      <td>0.00%</td>\n",
       "      <td>0.00</td>\n",
       "      <td>61.25%</td>\n",
       "      <td>0.68</td>\n",
       "      <td>97412.68990</td>\n",
       "      <td>0.02</td>\n",
       "      <td>0.0760</td>\n",
       "      <td>7.60%</td>\n",
       "    </tr>\n",
       "    <tr>\n",
       "      <th>3</th>\n",
       "      <td>Armour Square</td>\n",
       "      <td>1.592448e+06</td>\n",
       "      <td>1083609.51</td>\n",
       "      <td>0.68</td>\n",
       "      <td>0.00%</td>\n",
       "      <td>0.00</td>\n",
       "      <td>0.00%</td>\n",
       "      <td>0.00</td>\n",
       "      <td>0.00%</td>\n",
       "      <td>0.00</td>\n",
       "      <td>31.95%</td>\n",
       "      <td>0.32</td>\n",
       "      <td>46586.33220</td>\n",
       "      <td>0.03</td>\n",
       "      <td>0.0872</td>\n",
       "      <td>8.72%</td>\n",
       "    </tr>\n",
       "    <tr>\n",
       "      <th>4</th>\n",
       "      <td>Ashburn</td>\n",
       "      <td>1.258451e+07</td>\n",
       "      <td>7298099.42</td>\n",
       "      <td>0.58</td>\n",
       "      <td>0.00%</td>\n",
       "      <td>0.00</td>\n",
       "      <td>0.00%</td>\n",
       "      <td>0.00</td>\n",
       "      <td>6759050.21%</td>\n",
       "      <td>0.01</td>\n",
       "      <td>41.47%</td>\n",
       "      <td>0.42</td>\n",
       "      <td>252245.15800</td>\n",
       "      <td>0.02</td>\n",
       "      <td>0.1633</td>\n",
       "      <td>16.33%</td>\n",
       "    </tr>\n",
       "  </tbody>\n",
       "</table>\n",
       "</div>"
      ],
      "text/plain": [
       "     Neighborhood    Total Area  Redlined Area  Redlined Yellowlined Area  \\\n",
       "0     Albany Park  4.974188e+06           0.00      0.00    400667842.00%   \n",
       "1   Andersonville  8.904190e+05           0.00      0.00     89041897.20%   \n",
       "2  Archer Heights  5.195324e+06      534253.00      0.10    147897732.00%   \n",
       "3   Armour Square  1.592448e+06     1083609.51      0.68            0.00%   \n",
       "4         Ashburn  1.258451e+07     7298099.42      0.58            0.00%   \n",
       "\n",
       "    Yellowlined Bluelined Area  Bluelined Greenlined Area  Greenlined  \\\n",
       "0          0.81   60590845.80%       0.12           0.00%        0.00   \n",
       "1          1.00          0.00%       0.00           0.00%        0.00   \n",
       "2          0.28          0.00%       0.00           0.00%        0.00   \n",
       "3          0.00          0.00%       0.00           0.00%        0.00   \n",
       "4          0.00          0.00%       0.00     6759050.21%        0.01   \n",
       "\n",
       "  % Unlined  Score'     Park Area  Park  Canopy % Canopy  \n",
       "0     7.27%    0.33  115325.44000  0.02  0.2413   24.13%  \n",
       "1     0.00%    0.25    3455.54852  0.00  0.2447   24.47%  \n",
       "2    61.25%    0.68   97412.68990  0.02  0.0760    7.60%  \n",
       "3    31.95%    0.32   46586.33220  0.03  0.0872    8.72%  \n",
       "4    41.47%    0.42  252245.15800  0.02  0.1633   16.33%  "
      ]
     },
     "execution_count": 5,
     "metadata": {},
     "output_type": "execute_result"
    }
   ],
   "source": [
    "df.head()"
   ]
  },
  {
   "cell_type": "code",
   "execution_count": 6,
   "id": "c87f6944",
   "metadata": {},
   "outputs": [],
   "source": [
    "cols= [\"Redlined\",\" Yellowlined\",\"Bluelined\",\"Greenlined\",\"Canopy\"]\n",
    "dataa=df[cols]\n",
    "cols1= [\"Neighborhood\",\"Redlined\",\" Yellowlined\",\"Bluelined\",\"Greenlined\",\"Canopy\",\"Park\"]\n",
    "dataa1=df[cols1]\n"
   ]
  },
  {
   "cell_type": "code",
   "execution_count": 7,
   "id": "e1ce8a88",
   "metadata": {
    "scrolled": true
   },
   "outputs": [],
   "source": [
    "dataa1=dataa1.rename(columns={\"Neighborhood\": \"PRI_NEIGH\"})"
   ]
  },
  {
   "cell_type": "code",
   "execution_count": 8,
   "id": "891f649e",
   "metadata": {},
   "outputs": [
    {
     "data": {
      "text/plain": [
       "Text(0.5, 1.0, 'Park Distribution')"
      ]
     },
     "execution_count": 8,
     "metadata": {},
     "output_type": "execute_result"
    },
    {
     "data": {
      "image/png": "[encoded data removed]",
      "text/plain": [
       "<Figure size 432x288 with 1 Axes>"
      ]
     },
     "metadata": {
      "needs_background": "light"
     },
     "output_type": "display_data"
    }
   ],
   "source": [
    "dataa1[\"Park\"].hist()\n",
    "plt.title(\"Park Distribution\")"
   ]
  },
  {
   "cell_type": "markdown",
   "id": "10454dfd",
   "metadata": {},
   "source": [
    "# Test of normality"
   ]
  },
  {
   "cell_type": "code",
   "execution_count": 10,
   "id": "282e28d7",
   "metadata": {},
   "outputs": [
    {
     "name": "stderr",
     "output_type": "stream",
     "text": [
      "/opt/anaconda3/lib/python3.9/site-packages/statsmodels/graphics/gofplots.py:993: UserWarning: marker is redundantly defined by the 'marker' keyword argument and the fmt string \"bo\" (-> marker='o'). The keyword argument will take precedence.\n",
      "  ax.plot(x, y, fmt, **plot_style)\n",
      "/opt/anaconda3/lib/python3.9/site-packages/statsmodels/graphics/gofplots.py:993: UserWarning: marker is redundantly defined by the 'marker' keyword argument and the fmt string \"bo\" (-> marker='o'). The keyword argument will take precedence.\n",
      "  ax.plot(x, y, fmt, **plot_style)\n",
      "/opt/anaconda3/lib/python3.9/site-packages/statsmodels/graphics/gofplots.py:993: UserWarning: marker is redundantly defined by the 'marker' keyword argument and the fmt string \"bo\" (-> marker='o'). The keyword argument will take precedence.\n",
      "  ax.plot(x, y, fmt, **plot_style)\n",
      "/opt/anaconda3/lib/python3.9/site-packages/statsmodels/graphics/gofplots.py:993: UserWarning: marker is redundantly defined by the 'marker' keyword argument and the fmt string \"bo\" (-> marker='o'). The keyword argument will take precedence.\n",
      "  ax.plot(x, y, fmt, **plot_style)\n",
      "/opt/anaconda3/lib/python3.9/site-packages/statsmodels/graphics/gofplots.py:993: UserWarning: marker is redundantly defined by the 'marker' keyword argument and the fmt string \"bo\" (-> marker='o'). The keyword argument will take precedence.\n",
      "  ax.plot(x, y, fmt, **plot_style)\n",
      "/opt/anaconda3/lib/python3.9/site-packages/statsmodels/graphics/gofplots.py:993: UserWarning: marker is redundantly defined by the 'marker' keyword argument and the fmt string \"bo\" (-> marker='o'). The keyword argument will take precedence.\n",
      "  ax.plot(x, y, fmt, **plot_style)\n",
      "No handles with labels found to put in legend.\n"
     ]
    },
    {
     "data": {
      "text/plain": [
       "<matplotlib.legend.Legend at 0x7f88ff1f1e20>"
      ]
     },
     "execution_count": 10,
     "metadata": {},
     "output_type": "execute_result"
    },
    {
     "data": {
      "image/png": "[encoded data removed]",
      "text/plain": [
       "<Figure size 432x288 with 1 Axes>"
      ]
     },
     "metadata": {
      "needs_background": "light"
     },
     "output_type": "display_data"
    },
    {
     "data": {
      "image/png": "[encoded data removed]",
      "text/plain": [
       "<Figure size 432x288 with 1 Axes>"
      ]
     },
     "metadata": {
      "needs_background": "light"
     },
     "output_type": "display_data"
    },
    {
     "data": {
      "image/png": "[encoded data removed]",
      "text/plain": [
       "<Figure size 432x288 with 1 Axes>"
      ]
     },
     "metadata": {
      "needs_background": "light"
     },
     "output_type": "display_data"
    },
    {
     "data": {
      "image/png": "[encoded data removed]",
      "text/plain": [
       "<Figure size 432x288 with 1 Axes>"
      ]
     },
     "metadata": {
      "needs_background": "light"
     },
     "output_type": "display_data"
    },
    {
     "data": {
      "image/png": "[encoded data removed]",
      "text/plain": [
       "<Figure size 432x288 with 1 Axes>"
      ]
     },
     "metadata": {
      "needs_background": "light"
     },
     "output_type": "display_data"
    },
    {
     "data": {
      "image/png": "[encoded data removed]",
      "text/plain": [
       "<Figure size 432x288 with 1 Axes>"
      ]
     },
     "metadata": {
      "needs_background": "light"
     },
     "output_type": "display_data"
    }
   ],
   "source": [
    "#The QQ plots\n",
    "\n",
    "import statsmodels.api as sm\n",
    "       \n",
    "\n",
    "sm.qqplot(dataa[\"Redlined\"],line='45')\n",
    "plt.title(\"Redlined\")\n",
    "sm.qqplot(dataa[\"Canopy\"],line='45')\n",
    "plt.title(\"Canopy\")\n",
    "sm.qqplot(dataa[\" Yellowlined\"],line='45')\n",
    "plt.title(\"Yellowlined\")\n",
    "sm.qqplot(dataa[\"Bluelined\"],line='45')\n",
    "plt.title(\"Bluelined\")\n",
    "sm.qqplot(dataa[\"Greenlined\"],line='45')\n",
    "plt.title(\"Greenlined\")\n",
    "sm.qqplot(dataa1[\"Park\"],line='45')\n",
    "plt.title(\"Park\")\n",
    "\n",
    "#plt.title(\"QQ plots\")          \n",
    "plt.legend()          \n"
   ]
  },
  {
   "cell_type": "code",
   "execution_count": 11,
   "id": "326be984",
   "metadata": {},
   "outputs": [],
   "source": [
    "bounds= bounds.sort_values(by=[\"PRI_NEIGH\"])"
   ]
  },
  {
   "cell_type": "code",
   "execution_count": 12,
   "id": "74957a44",
   "metadata": {},
   "outputs": [
    {
     "name": "stdout",
     "output_type": "stream",
     "text": [
      "[2 2 1 0 0 2 2 3 2 2 3 2 0 2 0 0 2 3 2 0 1 0 2 1 0 2 3 0 0 2 3 2 1 1 0 2 1\n",
      " 0 1 2 2 2 2 1 2 2 2 0 3 0 2 2 1 0 1 0 1 1 1 0 1 0 1 2 2 3 2 1 0 0 2 1 1 1\n",
      " 1 2 2 0 3 0 0 1 2 1 2 0 2 1 0 2 2 1 1 3 0 0 2 2]\n"
     ]
    }
   ],
   "source": [
    "from sklearn.cluster import KMeans\n",
    " \n",
    "#Initialize the class object\n",
    "kmeans = KMeans(n_clusters= 4, init='random', n_init=100)\n",
    " \n",
    "#predict the labels of clusters.\n",
    "label = kmeans.fit_predict(dataa)\n",
    " \n",
    "print(label)"
   ]
  },
  {
   "cell_type": "code",
   "execution_count": 13,
   "id": "c84da9aa",
   "metadata": {},
   "outputs": [],
   "source": [
    "bounds['label']= label"
   ]
  },
  {
   "cell_type": "code",
   "execution_count": 14,
   "id": "ee8d8c7a",
   "metadata": {},
   "outputs": [
    {
     "data": {
      "text/html": [
       "<div>\n",
       "<style scoped>\n",
       "    .dataframe tbody tr th:only-of-type {\n",
       "        vertical-align: middle;\n",
       "    }\n",
       "\n",
       "    .dataframe tbody tr th {\n",
       "        vertical-align: top;\n",
       "    }\n",
       "\n",
       "    .dataframe thead th {\n",
       "        text-align: right;\n",
       "    }\n",
       "</style>\n",
       "<table border=\"1\" class=\"dataframe\">\n",
       "  <thead>\n",
       "    <tr style=\"text-align: right;\">\n",
       "      <th></th>\n",
       "      <th>PRI_NEIGH</th>\n",
       "      <th>SEC_NEIGH</th>\n",
       "      <th>SHAPE_AREA</th>\n",
       "      <th>SHAPE_LEN</th>\n",
       "      <th>geometry</th>\n",
       "      <th>label</th>\n",
       "    </tr>\n",
       "  </thead>\n",
       "  <tbody>\n",
       "    <tr>\n",
       "      <th>29</th>\n",
       "      <td>Albany Park</td>\n",
       "      <td>NORTH PARK,ALBANY PARK</td>\n",
       "      <td>5.354223e+07</td>\n",
       "      <td>39339.016439</td>\n",
       "      <td>POLYGON ((1155371.753 1933580.594, 1155375.020...</td>\n",
       "      <td>2</td>\n",
       "    </tr>\n",
       "    <tr>\n",
       "      <th>75</th>\n",
       "      <td>Andersonville</td>\n",
       "      <td>ANDERSONVILLE</td>\n",
       "      <td>9.584593e+06</td>\n",
       "      <td>12534.092625</td>\n",
       "      <td>POLYGON ((1167028.260 1934671.927, 1166980.190...</td>\n",
       "      <td>2</td>\n",
       "    </tr>\n",
       "    <tr>\n",
       "      <th>77</th>\n",
       "      <td>Archer Heights</td>\n",
       "      <td>ARCHER HEIGHTS,WEST ELSDON</td>\n",
       "      <td>5.592251e+07</td>\n",
       "      <td>31880.021030</td>\n",
       "      <td>POLYGON ((1152950.120 1879807.143, 1152953.209...</td>\n",
       "      <td>1</td>\n",
       "    </tr>\n",
       "    <tr>\n",
       "      <th>8</th>\n",
       "      <td>Armour Square</td>\n",
       "      <td>ARMOUR SQUARE,CHINATOWN</td>\n",
       "      <td>1.714147e+07</td>\n",
       "      <td>24359.189625</td>\n",
       "      <td>POLYGON ((1176100.169 1887669.734, 1176102.380...</td>\n",
       "      <td>0</td>\n",
       "    </tr>\n",
       "    <tr>\n",
       "      <th>48</th>\n",
       "      <td>Ashburn</td>\n",
       "      <td>ASHBURN</td>\n",
       "      <td>1.354603e+08</td>\n",
       "      <td>54818.154632</td>\n",
       "      <td>POLYGON ((1153627.375 1854775.750, 1153635.750...</td>\n",
       "      <td>0</td>\n",
       "    </tr>\n",
       "    <tr>\n",
       "      <th>...</th>\n",
       "      <td>...</td>\n",
       "      <td>...</td>\n",
       "      <td>...</td>\n",
       "      <td>...</td>\n",
       "      <td>...</td>\n",
       "      <td>...</td>\n",
       "    </tr>\n",
       "    <tr>\n",
       "      <th>32</th>\n",
       "      <td>West Ridge</td>\n",
       "      <td>WEST RIDGE</td>\n",
       "      <td>9.842909e+07</td>\n",
       "      <td>43020.689458</td>\n",
       "      <td>POLYGON ((1160516.155 1950358.246, 1160520.420...</td>\n",
       "      <td>3</td>\n",
       "    </tr>\n",
       "    <tr>\n",
       "      <th>87</th>\n",
       "      <td>West Town</td>\n",
       "      <td>WICKER PARK,WEST TOWN</td>\n",
       "      <td>5.850773e+07</td>\n",
       "      <td>46673.620546</td>\n",
       "      <td>POLYGON ((1168380.941 1910805.861, 1168383.640...</td>\n",
       "      <td>0</td>\n",
       "    </tr>\n",
       "    <tr>\n",
       "      <th>88</th>\n",
       "      <td>Wicker Park</td>\n",
       "      <td>WICKER PARK,WEST TOWN</td>\n",
       "      <td>2.685319e+07</td>\n",
       "      <td>21992.660946</td>\n",
       "      <td>POLYGON ((1165393.205 1912064.277, 1165393.432...</td>\n",
       "      <td>0</td>\n",
       "    </tr>\n",
       "    <tr>\n",
       "      <th>18</th>\n",
       "      <td>Woodlawn</td>\n",
       "      <td>WOODLAWN</td>\n",
       "      <td>4.051574e+07</td>\n",
       "      <td>28960.059037</td>\n",
       "      <td>POLYGON ((1188023.880 1860880.591, 1187930.820...</td>\n",
       "      <td>2</td>\n",
       "    </tr>\n",
       "    <tr>\n",
       "      <th>74</th>\n",
       "      <td>Wrigleyville</td>\n",
       "      <td>WRIGLEYVILLE</td>\n",
       "      <td>7.287843e+06</td>\n",
       "      <td>12154.650571</td>\n",
       "      <td>POLYGON ((1166789.700 1926679.941, 1167043.720...</td>\n",
       "      <td>2</td>\n",
       "    </tr>\n",
       "  </tbody>\n",
       "</table>\n",
       "<p>98 rows × 6 columns</p>\n",
       "</div>"
      ],
      "text/plain": [
       "         PRI_NEIGH                   SEC_NEIGH    SHAPE_AREA     SHAPE_LEN  \\\n",
       "29     Albany Park      NORTH PARK,ALBANY PARK  5.354223e+07  39339.016439   \n",
       "75   Andersonville               ANDERSONVILLE  9.584593e+06  12534.092625   \n",
       "77  Archer Heights  ARCHER HEIGHTS,WEST ELSDON  5.592251e+07  31880.021030   \n",
       "8    Armour Square     ARMOUR SQUARE,CHINATOWN  1.714147e+07  24359.189625   \n",
       "48         Ashburn                     ASHBURN  1.354603e+08  54818.154632   \n",
       "..             ...                         ...           ...           ...   \n",
       "32      West Ridge                  WEST RIDGE  9.842909e+07  43020.689458   \n",
       "87       West Town       WICKER PARK,WEST TOWN  5.850773e+07  46673.620546   \n",
       "88     Wicker Park       WICKER PARK,WEST TOWN  2.685319e+07  21992.660946   \n",
       "18        Woodlawn                    WOODLAWN  4.051574e+07  28960.059037   \n",
       "74    Wrigleyville                WRIGLEYVILLE  7.287843e+06  12154.650571   \n",
       "\n",
       "                                             geometry  label  \n",
       "29  POLYGON ((1155371.753 1933580.594, 1155375.020...      2  \n",
       "75  POLYGON ((1167028.260 1934671.927, 1166980.190...      2  \n",
       "77  POLYGON ((1152950.120 1879807.143, 1152953.209...      1  \n",
       "8   POLYGON ((1176100.169 1887669.734, 1176102.380...      0  \n",
       "48  POLYGON ((1153627.375 1854775.750, 1153635.750...      0  \n",
       "..                                                ...    ...  \n",
       "32  POLYGON ((1160516.155 1950358.246, 1160520.420...      3  \n",
       "87  POLYGON ((1168380.941 1910805.861, 1168383.640...      0  \n",
       "88  POLYGON ((1165393.205 1912064.277, 1165393.432...      0  \n",
       "18  POLYGON ((1188023.880 1860880.591, 1187930.820...      2  \n",
       "74  POLYGON ((1166789.700 1926679.941, 1167043.720...      2  \n",
       "\n",
       "[98 rows x 6 columns]"
      ]
     },
     "execution_count": 14,
     "metadata": {},
     "output_type": "execute_result"
    }
   ],
   "source": [
    "bounds"
   ]
  },
  {
   "cell_type": "code",
   "execution_count": 15,
   "id": "c6fb24b7",
   "metadata": {},
   "outputs": [],
   "source": [
    "\n",
    "\n",
    "\n",
    "mapp={\n",
    "    0 : \"blue\",\n",
    "    1 : 'red',\n",
    "    2 : 'pink',\n",
    "    3 : 'yellow'\n",
    "    \n",
    "}"
   ]
  },
  {
   "cell_type": "code",
   "execution_count": 18,
   "id": "423d3b3b",
   "metadata": {},
   "outputs": [],
   "source": [
    "def plotter(data,col):\n",
    "\n",
    "    \n",
    "    fig, ax = plt.subplots(figsize=(14, 14))\n",
    "\n",
    "    data.plot(column=col,\n",
    "                categorical=True,\n",
    "                legend=True,\n",
    "                ax=ax)\n",
    "\n",
    "    # Adjust legend location\n",
    "    leg = ax.get_legend()\n",
    "    leg.set_bbox_to_anchor((1.15,0.5))\n",
    "\n",
    "    ax.set_axis_off()\n",
    "\n",
    "    plt.show()\n",
    "    \n",
    "    "
   ]
  },
  {
   "cell_type": "code",
   "execution_count": 19,
   "id": "f6facbed",
   "metadata": {},
   "outputs": [
    {
     "data": {
      "image/png": "[encoded data removed]",
      "text/plain": [
       "<Figure size 1008x1008 with 1 Axes>"
      ]
     },
     "metadata": {
      "needs_background": "light"
     },
     "output_type": "display_data"
    }
   ],
   "source": [
    "plotter(bounds,'label')"
   ]
  },
  {
   "cell_type": "code",
   "execution_count": 29,
   "id": "55a2ffab",
   "metadata": {},
   "outputs": [
    {
     "name": "stderr",
     "output_type": "stream",
     "text": [
      "No handles with labels found to put in legend.\n"
     ]
    },
    {
     "data": {
      "image/png": "[encoded data removed]",
      "text/plain": [
       "<Figure size 720x720 with 1 Axes>"
      ]
     },
     "metadata": {
      "needs_background": "light"
     },
     "output_type": "display_data"
    }
   ],
   "source": [
    "# Plot data\n",
    "fig, ax = plt.subplots(figsize=(10, 10))\n",
    "\n",
    "# Loop through each attribute type and plot it using the colors assigned in the dictionary\n",
    "for ctype, data in  bounds.groupby('label'):\n",
    "    \n",
    "    # Define the color for each group using the dictionary\n",
    "    color = mapp[ctype]\n",
    "    \n",
    "    # Plot each group using the color defined above\n",
    "    data.plot(color=color,\n",
    "              ax=ax,\n",
    "              label=ctype)\n",
    "\n",
    "ax.legend(bbox_to_anchor=(1.0, .5), prop={'size': 12})\n",
    "ax.set(title='Clusters of Chicago Neighborhoods wiht 4 clusters')\n",
    "\n",
    "ax.set_axis_off()\n",
    "plt.show()\n"
   ]
  },
  {
   "cell_type": "code",
   "execution_count": 30,
   "id": "bdc106c3",
   "metadata": {},
   "outputs": [
    {
     "name": "stderr",
     "output_type": "stream",
     "text": [
      "No handles with labels found to put in legend.\n"
     ]
    },
    {
     "data": {
      "image/png": "[encoded data removed]",
      "text/plain": [
       "<Figure size 720x720 with 1 Axes>"
      ]
     },
     "metadata": {
      "needs_background": "light"
     },
     "output_type": "display_data"
    }
   ],
   "source": [
    "# Plot data\n",
    "fig, ax = plt.subplots(figsize=(10, 10))\n",
    "\n",
    "# Loop through each attribute type and plot it using the colors assigned in the dictionary\n",
    "for ctype, data in  bounds.groupby('label'):\n",
    "    \n",
    "    # Define the color for each group using the dictionary\n",
    "    color = mapp[ctype]\n",
    "    \n",
    "    # Plot each group using the color defined above\n",
    "    data.plot(color=color,\n",
    "              ax=ax,\n",
    "              label=ctype)\n",
    "\n",
    "ax.legend(bbox_to_anchor=(1.0, .5), prop={'size': 12})\n",
    "ax.set(title='Clusters of Chicago Neighborhoods')\n",
    "\n",
    "ax.set_axis_off()\n",
    "plt.show()\n"
   ]
  },
  {
   "cell_type": "markdown",
   "id": "113729c1",
   "metadata": {},
   "source": [
    "The relationship with our cluster labels and "
   ]
  },
  {
   "cell_type": "code",
   "execution_count": 31,
   "id": "0ca515f0",
   "metadata": {},
   "outputs": [],
   "source": [
    "suicide= pd.read_csv(\"/Users/amirreza/Desktop/suicide.csv\")"
   ]
  },
  {
   "cell_type": "code",
   "execution_count": 32,
   "id": "97461d09",
   "metadata": {},
   "outputs": [],
   "source": [
    "cols2=[\"Community Area Name\", \"Cumulative Deaths 2006 - 2010\"]\n",
    "suicide1=suicide[cols2]\n",
    "\n"
   ]
  },
  {
   "cell_type": "code",
   "execution_count": 33,
   "id": "ec6d1fc9",
   "metadata": {},
   "outputs": [
    {
     "name": "stdout",
     "output_type": "stream",
     "text": [
      "<class 'pandas.core.frame.DataFrame'>\n",
      "RangeIndex: 78 entries, 0 to 77\n",
      "Data columns (total 2 columns):\n",
      " #   Column     Non-Null Count  Dtype \n",
      "---  ------     --------------  ----- \n",
      " 0   PRI_NEIGH  78 non-null     object\n",
      " 1   Cdeath     78 non-null     int64 \n",
      "dtypes: int64(1), object(1)\n",
      "memory usage: 1.3+ KB\n"
     ]
    }
   ],
   "source": [
    "\n",
    "suicide1.columns=[\"PRI_NEIGH\", \"Cdeath\"]\n",
    "suicide1.info()"
   ]
  },
  {
   "cell_type": "code",
   "execution_count": 34,
   "id": "297b2782",
   "metadata": {
    "scrolled": true
   },
   "outputs": [
    {
     "name": "stdout",
     "output_type": "stream",
     "text": [
      "<class 'geopandas.geodataframe.GeoDataFrame'>\n",
      "Int64Index: 98 entries, 29 to 74\n",
      "Data columns (total 6 columns):\n",
      " #   Column      Non-Null Count  Dtype   \n",
      "---  ------      --------------  -----   \n",
      " 0   PRI_NEIGH   98 non-null     object  \n",
      " 1   SEC_NEIGH   98 non-null     object  \n",
      " 2   SHAPE_AREA  98 non-null     float64 \n",
      " 3   SHAPE_LEN   98 non-null     float64 \n",
      " 4   geometry    98 non-null     geometry\n",
      " 5   label       98 non-null     int32   \n",
      "dtypes: float64(2), geometry(1), int32(1), object(2)\n",
      "memory usage: 5.0+ KB\n"
     ]
    }
   ],
   "source": [
    "bounds.info()"
   ]
  },
  {
   "cell_type": "code",
   "execution_count": 35,
   "id": "198d496a",
   "metadata": {},
   "outputs": [
    {
     "data": {
      "text/html": [
       "<div>\n",
       "<style scoped>\n",
       "    .dataframe tbody tr th:only-of-type {\n",
       "        vertical-align: middle;\n",
       "    }\n",
       "\n",
       "    .dataframe tbody tr th {\n",
       "        vertical-align: top;\n",
       "    }\n",
       "\n",
       "    .dataframe thead th {\n",
       "        text-align: right;\n",
       "    }\n",
       "</style>\n",
       "<table border=\"1\" class=\"dataframe\">\n",
       "  <thead>\n",
       "    <tr style=\"text-align: right;\">\n",
       "      <th></th>\n",
       "      <th>PRI_NEIGH</th>\n",
       "      <th>SEC_NEIGH</th>\n",
       "      <th>SHAPE_AREA</th>\n",
       "      <th>SHAPE_LEN</th>\n",
       "      <th>geometry</th>\n",
       "      <th>label</th>\n",
       "      <th>Cdeath</th>\n",
       "    </tr>\n",
       "  </thead>\n",
       "  <tbody>\n",
       "    <tr>\n",
       "      <th>0</th>\n",
       "      <td>Albany Park</td>\n",
       "      <td>NORTH PARK,ALBANY PARK</td>\n",
       "      <td>5.354223e+07</td>\n",
       "      <td>39339.016439</td>\n",
       "      <td>POLYGON ((1155371.753 1933580.594, 1155375.020...</td>\n",
       "      <td>2</td>\n",
       "      <td>18</td>\n",
       "    </tr>\n",
       "    <tr>\n",
       "      <th>1</th>\n",
       "      <td>Archer Heights</td>\n",
       "      <td>ARCHER HEIGHTS,WEST ELSDON</td>\n",
       "      <td>5.592251e+07</td>\n",
       "      <td>31880.021030</td>\n",
       "      <td>POLYGON ((1152950.120 1879807.143, 1152953.209...</td>\n",
       "      <td>1</td>\n",
       "      <td>2</td>\n",
       "    </tr>\n",
       "    <tr>\n",
       "      <th>2</th>\n",
       "      <td>Armour Square</td>\n",
       "      <td>ARMOUR SQUARE,CHINATOWN</td>\n",
       "      <td>1.714147e+07</td>\n",
       "      <td>24359.189625</td>\n",
       "      <td>POLYGON ((1176100.169 1887669.734, 1176102.380...</td>\n",
       "      <td>0</td>\n",
       "      <td>2</td>\n",
       "    </tr>\n",
       "    <tr>\n",
       "      <th>3</th>\n",
       "      <td>Ashburn</td>\n",
       "      <td>ASHBURN</td>\n",
       "      <td>1.354603e+08</td>\n",
       "      <td>54818.154632</td>\n",
       "      <td>POLYGON ((1153627.375 1854775.750, 1153635.750...</td>\n",
       "      <td>0</td>\n",
       "      <td>4</td>\n",
       "    </tr>\n",
       "    <tr>\n",
       "      <th>4</th>\n",
       "      <td>Auburn Gresham</td>\n",
       "      <td>AUBURN GRESHAM</td>\n",
       "      <td>1.050654e+08</td>\n",
       "      <td>46757.721716</td>\n",
       "      <td>POLYGON ((1173452.440 1854492.961, 1173453.375...</td>\n",
       "      <td>2</td>\n",
       "      <td>12</td>\n",
       "    </tr>\n",
       "    <tr>\n",
       "      <th>...</th>\n",
       "      <td>...</td>\n",
       "      <td>...</td>\n",
       "      <td>...</td>\n",
       "      <td>...</td>\n",
       "      <td>...</td>\n",
       "      <td>...</td>\n",
       "      <td>...</td>\n",
       "    </tr>\n",
       "    <tr>\n",
       "      <th>61</th>\n",
       "      <td>West Lawn</td>\n",
       "      <td>WEST LAWN</td>\n",
       "      <td>8.231530e+07</td>\n",
       "      <td>41934.490131</td>\n",
       "      <td>POLYGON ((1153627.375 1854775.750, 1153562.625...</td>\n",
       "      <td>2</td>\n",
       "      <td>9</td>\n",
       "    </tr>\n",
       "    <tr>\n",
       "      <th>62</th>\n",
       "      <td>West Pullman</td>\n",
       "      <td>WEST PULLMAN</td>\n",
       "      <td>9.936520e+07</td>\n",
       "      <td>50023.843001</td>\n",
       "      <td>POLYGON ((1179644.753 1819181.379, 1179643.622...</td>\n",
       "      <td>1</td>\n",
       "      <td>11</td>\n",
       "    </tr>\n",
       "    <tr>\n",
       "      <th>63</th>\n",
       "      <td>West Ridge</td>\n",
       "      <td>WEST RIDGE</td>\n",
       "      <td>9.842909e+07</td>\n",
       "      <td>43020.689458</td>\n",
       "      <td>POLYGON ((1160516.155 1950358.246, 1160520.420...</td>\n",
       "      <td>3</td>\n",
       "      <td>22</td>\n",
       "    </tr>\n",
       "    <tr>\n",
       "      <th>64</th>\n",
       "      <td>West Town</td>\n",
       "      <td>WICKER PARK,WEST TOWN</td>\n",
       "      <td>5.850773e+07</td>\n",
       "      <td>46673.620546</td>\n",
       "      <td>POLYGON ((1168380.941 1910805.861, 1168383.640...</td>\n",
       "      <td>0</td>\n",
       "      <td>29</td>\n",
       "    </tr>\n",
       "    <tr>\n",
       "      <th>65</th>\n",
       "      <td>Woodlawn</td>\n",
       "      <td>WOODLAWN</td>\n",
       "      <td>4.051574e+07</td>\n",
       "      <td>28960.059037</td>\n",
       "      <td>POLYGON ((1188023.880 1860880.591, 1187930.820...</td>\n",
       "      <td>2</td>\n",
       "      <td>6</td>\n",
       "    </tr>\n",
       "  </tbody>\n",
       "</table>\n",
       "<p>66 rows × 7 columns</p>\n",
       "</div>"
      ],
      "text/plain": [
       "         PRI_NEIGH                   SEC_NEIGH    SHAPE_AREA     SHAPE_LEN  \\\n",
       "0      Albany Park      NORTH PARK,ALBANY PARK  5.354223e+07  39339.016439   \n",
       "1   Archer Heights  ARCHER HEIGHTS,WEST ELSDON  5.592251e+07  31880.021030   \n",
       "2    Armour Square     ARMOUR SQUARE,CHINATOWN  1.714147e+07  24359.189625   \n",
       "3          Ashburn                     ASHBURN  1.354603e+08  54818.154632   \n",
       "4   Auburn Gresham              AUBURN GRESHAM  1.050654e+08  46757.721716   \n",
       "..             ...                         ...           ...           ...   \n",
       "61       West Lawn                   WEST LAWN  8.231530e+07  41934.490131   \n",
       "62    West Pullman                WEST PULLMAN  9.936520e+07  50023.843001   \n",
       "63      West Ridge                  WEST RIDGE  9.842909e+07  43020.689458   \n",
       "64       West Town       WICKER PARK,WEST TOWN  5.850773e+07  46673.620546   \n",
       "65        Woodlawn                    WOODLAWN  4.051574e+07  28960.059037   \n",
       "\n",
       "                                             geometry  label  Cdeath  \n",
       "0   POLYGON ((1155371.753 1933580.594, 1155375.020...      2      18  \n",
       "1   POLYGON ((1152950.120 1879807.143, 1152953.209...      1       2  \n",
       "2   POLYGON ((1176100.169 1887669.734, 1176102.380...      0       2  \n",
       "3   POLYGON ((1153627.375 1854775.750, 1153635.750...      0       4  \n",
       "4   POLYGON ((1173452.440 1854492.961, 1173453.375...      2      12  \n",
       "..                                                ...    ...     ...  \n",
       "61  POLYGON ((1153627.375 1854775.750, 1153562.625...      2       9  \n",
       "62  POLYGON ((1179644.753 1819181.379, 1179643.622...      1      11  \n",
       "63  POLYGON ((1160516.155 1950358.246, 1160520.420...      3      22  \n",
       "64  POLYGON ((1168380.941 1910805.861, 1168383.640...      0      29  \n",
       "65  POLYGON ((1188023.880 1860880.591, 1187930.820...      2       6  \n",
       "\n",
       "[66 rows x 7 columns]"
      ]
     },
     "execution_count": 35,
     "metadata": {},
     "output_type": "execute_result"
    }
   ],
   "source": [
    "merger= pd.merge(bounds,suicide1, how=\"inner\", on= \"PRI_NEIGH\")\n",
    "merger"
   ]
  },
  {
   "cell_type": "code",
   "execution_count": 36,
   "id": "23bc1828",
   "metadata": {},
   "outputs": [
    {
     "name": "stdout",
     "output_type": "stream",
     "text": [
      "<class 'geopandas.geodataframe.GeoDataFrame'>\n",
      "Int64Index: 66 entries, 0 to 65\n",
      "Data columns (total 7 columns):\n",
      " #   Column      Non-Null Count  Dtype   \n",
      "---  ------      --------------  -----   \n",
      " 0   PRI_NEIGH   66 non-null     object  \n",
      " 1   SEC_NEIGH   66 non-null     object  \n",
      " 2   SHAPE_AREA  66 non-null     float64 \n",
      " 3   SHAPE_LEN   66 non-null     float64 \n",
      " 4   geometry    66 non-null     geometry\n",
      " 5   label       66 non-null     int32   \n",
      " 6   Cdeath      66 non-null     int64   \n",
      "dtypes: float64(2), geometry(1), int32(1), int64(1), object(2)\n",
      "memory usage: 3.9+ KB\n"
     ]
    }
   ],
   "source": [
    "merger.info()"
   ]
  },
  {
   "cell_type": "code",
   "execution_count": 37,
   "id": "ea5bf6bf",
   "metadata": {},
   "outputs": [
    {
     "data": {
      "text/plain": [
       "<AxesSubplot:>"
      ]
     },
     "execution_count": 37,
     "metadata": {},
     "output_type": "execute_result"
    },
    {
     "data": {
      "image/png": "[encoded data removed]",
      "text/plain": [
       "<Figure size 432x288 with 1 Axes>"
      ]
     },
     "metadata": {
      "needs_background": "light"
     },
     "output_type": "display_data"
    }
   ],
   "source": [
    "merger[\"Cdeath\"].hist()"
   ]
  },
  {
   "cell_type": "code",
   "execution_count": 38,
   "id": "6c341412",
   "metadata": {},
   "outputs": [
    {
     "data": {
      "text/html": [
       "<div>\n",
       "<style scoped>\n",
       "    .dataframe tbody tr th:only-of-type {\n",
       "        vertical-align: middle;\n",
       "    }\n",
       "\n",
       "    .dataframe tbody tr th {\n",
       "        vertical-align: top;\n",
       "    }\n",
       "\n",
       "    .dataframe thead th {\n",
       "        text-align: right;\n",
       "    }\n",
       "</style>\n",
       "<table border=\"1\" class=\"dataframe\">\n",
       "  <thead>\n",
       "    <tr style=\"text-align: right;\">\n",
       "      <th></th>\n",
       "      <th>SHAPE_AREA</th>\n",
       "      <th>SHAPE_LEN</th>\n",
       "      <th>label</th>\n",
       "      <th>Cdeath</th>\n",
       "    </tr>\n",
       "  </thead>\n",
       "  <tbody>\n",
       "    <tr>\n",
       "      <th>count</th>\n",
       "      <td>6.600000e+01</td>\n",
       "      <td>66.000000</td>\n",
       "      <td>66.000000</td>\n",
       "      <td>66.000000</td>\n",
       "    </tr>\n",
       "    <tr>\n",
       "      <th>mean</th>\n",
       "      <td>8.177182e+07</td>\n",
       "      <td>44013.475828</td>\n",
       "      <td>1.409091</td>\n",
       "      <td>11.393939</td>\n",
       "    </tr>\n",
       "    <tr>\n",
       "      <th>std</th>\n",
       "      <td>5.821001e+07</td>\n",
       "      <td>21126.626388</td>\n",
       "      <td>0.976292</td>\n",
       "      <td>8.966397</td>\n",
       "    </tr>\n",
       "    <tr>\n",
       "      <th>min</th>\n",
       "      <td>1.691396e+07</td>\n",
       "      <td>18137.944253</td>\n",
       "      <td>0.000000</td>\n",
       "      <td>1.000000</td>\n",
       "    </tr>\n",
       "    <tr>\n",
       "      <th>25%</th>\n",
       "      <td>4.857594e+07</td>\n",
       "      <td>31513.757573</td>\n",
       "      <td>1.000000</td>\n",
       "      <td>5.000000</td>\n",
       "    </tr>\n",
       "    <tr>\n",
       "      <th>50%</th>\n",
       "      <td>7.130457e+07</td>\n",
       "      <td>42621.643810</td>\n",
       "      <td>2.000000</td>\n",
       "      <td>9.000000</td>\n",
       "    </tr>\n",
       "    <tr>\n",
       "      <th>75%</th>\n",
       "      <td>9.836199e+07</td>\n",
       "      <td>48978.700705</td>\n",
       "      <td>2.000000</td>\n",
       "      <td>16.000000</td>\n",
       "    </tr>\n",
       "    <tr>\n",
       "      <th>max</th>\n",
       "      <td>3.718356e+08</td>\n",
       "      <td>173625.984660</td>\n",
       "      <td>3.000000</td>\n",
       "      <td>42.000000</td>\n",
       "    </tr>\n",
       "  </tbody>\n",
       "</table>\n",
       "</div>"
      ],
      "text/plain": [
       "         SHAPE_AREA      SHAPE_LEN      label     Cdeath\n",
       "count  6.600000e+01      66.000000  66.000000  66.000000\n",
       "mean   8.177182e+07   44013.475828   1.409091  11.393939\n",
       "std    5.821001e+07   21126.626388   0.976292   8.966397\n",
       "min    1.691396e+07   18137.944253   0.000000   1.000000\n",
       "25%    4.857594e+07   31513.757573   1.000000   5.000000\n",
       "50%    7.130457e+07   42621.643810   2.000000   9.000000\n",
       "75%    9.836199e+07   48978.700705   2.000000  16.000000\n",
       "max    3.718356e+08  173625.984660   3.000000  42.000000"
      ]
     },
     "execution_count": 38,
     "metadata": {},
     "output_type": "execute_result"
    }
   ],
   "source": [
    "merger.describe()"
   ]
  },
  {
   "cell_type": "code",
   "execution_count": 39,
   "id": "c2158d10",
   "metadata": {},
   "outputs": [
    {
     "data": {
      "text/html": [
       "<div>\n",
       "<style scoped>\n",
       "    .dataframe tbody tr th:only-of-type {\n",
       "        vertical-align: middle;\n",
       "    }\n",
       "\n",
       "    .dataframe tbody tr th {\n",
       "        vertical-align: top;\n",
       "    }\n",
       "\n",
       "    .dataframe thead th {\n",
       "        text-align: right;\n",
       "    }\n",
       "</style>\n",
       "<table border=\"1\" class=\"dataframe\">\n",
       "  <thead>\n",
       "    <tr style=\"text-align: right;\">\n",
       "      <th></th>\n",
       "      <th>SHAPE_AREA</th>\n",
       "      <th>SHAPE_LEN</th>\n",
       "      <th>label</th>\n",
       "      <th>Cdeath</th>\n",
       "    </tr>\n",
       "  </thead>\n",
       "  <tbody>\n",
       "    <tr>\n",
       "      <th>SHAPE_AREA</th>\n",
       "      <td>1.000000</td>\n",
       "      <td>0.874226</td>\n",
       "      <td>-0.013251</td>\n",
       "      <td>0.077756</td>\n",
       "    </tr>\n",
       "    <tr>\n",
       "      <th>SHAPE_LEN</th>\n",
       "      <td>0.874226</td>\n",
       "      <td>1.000000</td>\n",
       "      <td>-0.042750</td>\n",
       "      <td>0.195459</td>\n",
       "    </tr>\n",
       "    <tr>\n",
       "      <th>label</th>\n",
       "      <td>-0.013251</td>\n",
       "      <td>-0.042750</td>\n",
       "      <td>1.000000</td>\n",
       "      <td>0.276562</td>\n",
       "    </tr>\n",
       "    <tr>\n",
       "      <th>Cdeath</th>\n",
       "      <td>0.077756</td>\n",
       "      <td>0.195459</td>\n",
       "      <td>0.276562</td>\n",
       "      <td>1.000000</td>\n",
       "    </tr>\n",
       "  </tbody>\n",
       "</table>\n",
       "</div>"
      ],
      "text/plain": [
       "            SHAPE_AREA  SHAPE_LEN     label    Cdeath\n",
       "SHAPE_AREA    1.000000   0.874226 -0.013251  0.077756\n",
       "SHAPE_LEN     0.874226   1.000000 -0.042750  0.195459\n",
       "label        -0.013251  -0.042750  1.000000  0.276562\n",
       "Cdeath        0.077756   0.195459  0.276562  1.000000"
      ]
     },
     "execution_count": 39,
     "metadata": {},
     "output_type": "execute_result"
    }
   ],
   "source": [
    "merger.corr()"
   ]
  },
  {
   "cell_type": "code",
   "execution_count": 40,
   "id": "18e0dce4",
   "metadata": {},
   "outputs": [],
   "source": [
    "#Cluster transformation for Cdeath\n",
    "def transformer(x):\n",
    "    c=-1\n",
    "    \n",
    "    if(x>18):\n",
    "        c=3\n",
    "    elif(x <= 18 and x>11 ):\n",
    "        c=2\n",
    "    elif(x>5 and x<=11):   \n",
    "        c=1\n",
    "    elif(x <= 5):\n",
    "        c=0\n",
    "        \n",
    "    return  c       \n",
    "        "
   ]
  },
  {
   "cell_type": "code",
   "execution_count": 41,
   "id": "380114ba",
   "metadata": {},
   "outputs": [
    {
     "name": "stdout",
     "output_type": "stream",
     "text": [
      "18\n",
      "0\n",
      "2\n",
      "0\n",
      "2\n",
      "0\n",
      "4\n",
      "0\n",
      "12\n",
      "0\n",
      "23\n",
      "0\n",
      "1\n",
      "0\n",
      "17\n",
      "0\n",
      "13\n",
      "0\n",
      "7\n",
      "0\n",
      "15\n",
      "0\n",
      "17\n",
      "0\n",
      "1\n",
      "0\n",
      "2\n",
      "0\n",
      "12\n",
      "0\n",
      "11\n",
      "0\n",
      "8\n",
      "0\n",
      "4\n",
      "0\n",
      "22\n",
      "0\n",
      "6\n",
      "0\n",
      "32\n",
      "0\n",
      "7\n",
      "0\n",
      "7\n",
      "0\n",
      "1\n",
      "0\n",
      "9\n",
      "0\n",
      "20\n",
      "0\n",
      "7\n",
      "0\n",
      "2\n",
      "0\n",
      "3\n",
      "0\n",
      "6\n",
      "0\n",
      "22\n",
      "0\n",
      "15\n",
      "0\n",
      "5\n",
      "0\n",
      "42\n",
      "0\n",
      "19\n",
      "0\n",
      "13\n",
      "0\n",
      "16\n",
      "0\n",
      "13\n",
      "0\n",
      "9\n",
      "0\n",
      "4\n",
      "0\n",
      "6\n",
      "0\n",
      "9\n",
      "0\n",
      "6\n",
      "0\n",
      "16\n",
      "0\n",
      "8\n",
      "0\n",
      "2\n",
      "0\n",
      "23\n",
      "0\n",
      "8\n",
      "0\n",
      "1\n",
      "0\n",
      "36\n",
      "0\n",
      "3\n",
      "0\n",
      "3\n",
      "0\n",
      "22\n",
      "0\n",
      "9\n",
      "0\n",
      "7\n",
      "0\n",
      "8\n",
      "0\n",
      "14\n",
      "0\n",
      "26\n",
      "0\n",
      "5\n",
      "0\n",
      "5\n",
      "0\n",
      "9\n",
      "0\n",
      "9\n",
      "0\n",
      "11\n",
      "0\n",
      "22\n",
      "0\n",
      "29\n",
      "0\n",
      "6\n",
      "0\n"
     ]
    },
    {
     "name": "stderr",
     "output_type": "stream",
     "text": [
      "/var/folders/sw/_yt0tfzj6wb08zxvbrdj6lcr0000gn/T/ipykernel_19701/912791220.py:5: SettingWithCopyWarning: \n",
      "A value is trying to be set on a copy of a slice from a DataFrame\n",
      "\n",
      "See the caveats in the documentation: https://pandas.pydata.org/pandas-docs/stable/user_guide/indexing.html#returning-a-view-versus-a-copy\n",
      "  merger[\"Cdeath\"][i]=transformer(merger[\"Cdeath\"][i])\n"
     ]
    }
   ],
   "source": [
    "#transforming the commulative deaths into clusters\n",
    "\n",
    "for i in range(len(merger)):\n",
    "    print(merger[\"Cdeath\"][i])\n",
    "    merger[\"Cdeath\"][i]=transformer(merger[\"Cdeath\"][i])\n",
    "    print(transformer(merger[\"Cdeath\"][i]))"
   ]
  },
  {
   "cell_type": "code",
   "execution_count": 42,
   "id": "dfc3b8aa",
   "metadata": {
    "scrolled": true
   },
   "outputs": [
    {
     "data": {
      "text/plain": [
       "1    22\n",
       "0    18\n",
       "2    13\n",
       "3    13\n",
       "Name: Cdeath, dtype: int64"
      ]
     },
     "execution_count": 42,
     "metadata": {},
     "output_type": "execute_result"
    }
   ],
   "source": [
    "merger[\"Cdeath\"].value_counts()"
   ]
  },
  {
   "cell_type": "code",
   "execution_count": 43,
   "id": "154f1c00",
   "metadata": {},
   "outputs": [
    {
     "data": {
      "text/html": [
       "<div>\n",
       "<style scoped>\n",
       "    .dataframe tbody tr th:only-of-type {\n",
       "        vertical-align: middle;\n",
       "    }\n",
       "\n",
       "    .dataframe tbody tr th {\n",
       "        vertical-align: top;\n",
       "    }\n",
       "\n",
       "    .dataframe thead th {\n",
       "        text-align: right;\n",
       "    }\n",
       "</style>\n",
       "<table border=\"1\" class=\"dataframe\">\n",
       "  <thead>\n",
       "    <tr style=\"text-align: right;\">\n",
       "      <th></th>\n",
       "      <th>SHAPE_AREA</th>\n",
       "      <th>SHAPE_LEN</th>\n",
       "      <th>label</th>\n",
       "      <th>Cdeath</th>\n",
       "    </tr>\n",
       "  </thead>\n",
       "  <tbody>\n",
       "    <tr>\n",
       "      <th>SHAPE_AREA</th>\n",
       "      <td>1.000000</td>\n",
       "      <td>0.874226</td>\n",
       "      <td>-0.013251</td>\n",
       "      <td>0.121396</td>\n",
       "    </tr>\n",
       "    <tr>\n",
       "      <th>SHAPE_LEN</th>\n",
       "      <td>0.874226</td>\n",
       "      <td>1.000000</td>\n",
       "      <td>-0.042750</td>\n",
       "      <td>0.218034</td>\n",
       "    </tr>\n",
       "    <tr>\n",
       "      <th>label</th>\n",
       "      <td>-0.013251</td>\n",
       "      <td>-0.042750</td>\n",
       "      <td>1.000000</td>\n",
       "      <td>0.311349</td>\n",
       "    </tr>\n",
       "    <tr>\n",
       "      <th>Cdeath</th>\n",
       "      <td>0.121396</td>\n",
       "      <td>0.218034</td>\n",
       "      <td>0.311349</td>\n",
       "      <td>1.000000</td>\n",
       "    </tr>\n",
       "  </tbody>\n",
       "</table>\n",
       "</div>"
      ],
      "text/plain": [
       "            SHAPE_AREA  SHAPE_LEN     label    Cdeath\n",
       "SHAPE_AREA    1.000000   0.874226 -0.013251  0.121396\n",
       "SHAPE_LEN     0.874226   1.000000 -0.042750  0.218034\n",
       "label        -0.013251  -0.042750  1.000000  0.311349\n",
       "Cdeath        0.121396   0.218034  0.311349  1.000000"
      ]
     },
     "execution_count": 43,
     "metadata": {},
     "output_type": "execute_result"
    }
   ],
   "source": [
    "merger.corr()"
   ]
  },
  {
   "cell_type": "code",
   "execution_count": 44,
   "id": "ad124d75",
   "metadata": {
    "scrolled": false
   },
   "outputs": [
    {
     "data": {
      "text/plain": [
       "<AxesSubplot:>"
      ]
     },
     "execution_count": 44,
     "metadata": {},
     "output_type": "execute_result"
    },
    {
     "data": {
      "image/png": "[encoded data removed]",
      "text/plain": [
       "<Figure size 432x288 with 1 Axes>"
      ]
     },
     "metadata": {
      "needs_background": "light"
     },
     "output_type": "display_data"
    }
   ],
   "source": [
    "merger[\"Cdeath\"].hist()"
   ]
  },
  {
   "cell_type": "code",
   "execution_count": 45,
   "id": "d16846f9",
   "metadata": {},
   "outputs": [
    {
     "data": {
      "image/png": "[encoded data removed]",
      "text/plain": [
       "<Figure size 1008x1008 with 1 Axes>"
      ]
     },
     "metadata": {
      "needs_background": "light"
     },
     "output_type": "display_data"
    }
   ],
   "source": [
    "#plotting the clusters of Cdeath in the map of Chicago\n",
    "\n",
    "mapp={\n",
    "\n",
    "    0 : \"red\",\n",
    "    1 : 'blue',\n",
    "    2 : 'purple',\n",
    "    3 : 'yellow'\n",
    "    \n",
    "}\n",
    "\n",
    "\n",
    "\n",
    "\n",
    "fig, ax = plt.subplots(figsize=(14, 14))\n",
    "\n",
    "merger.plot(column='Cdeath',\n",
    "                categorical=True,\n",
    "                legend=True,\n",
    "                ax=ax)\n",
    "\n",
    "# Adjust legend location\n",
    "leg = ax.get_legend()\n",
    "leg.set_bbox_to_anchor((1.15,0.5))\n",
    "\n",
    "ax.set_axis_off()\n",
    "\n",
    "plt.show()"
   ]
  },
  {
   "cell_type": "markdown",
   "id": "4d74df0c",
   "metadata": {},
   "source": [
    "# Cluster Anlaysis of the result of KMeans"
   ]
  },
  {
   "cell_type": "code",
   "execution_count": 46,
   "id": "b14eb6c1",
   "metadata": {},
   "outputs": [],
   "source": [
    "\n",
    "\n",
    "\n",
    "n1=dataa[label==0]\n",
    "n2=dataa[label==1]\n",
    "n3=dataa[label==2]\n",
    "n4=dataa[label==3]"
   ]
  },
  {
   "cell_type": "code",
   "execution_count": 47,
   "id": "976b8c8f",
   "metadata": {
    "scrolled": true
   },
   "outputs": [
    {
     "data": {
      "text/html": [
       "<div>\n",
       "<style scoped>\n",
       "    .dataframe tbody tr th:only-of-type {\n",
       "        vertical-align: middle;\n",
       "    }\n",
       "\n",
       "    .dataframe tbody tr th {\n",
       "        vertical-align: top;\n",
       "    }\n",
       "\n",
       "    .dataframe thead th {\n",
       "        text-align: right;\n",
       "    }\n",
       "</style>\n",
       "<table border=\"1\" class=\"dataframe\">\n",
       "  <thead>\n",
       "    <tr style=\"text-align: right;\">\n",
       "      <th></th>\n",
       "      <th>Redlined</th>\n",
       "      <th>Yellowlined</th>\n",
       "      <th>Bluelined</th>\n",
       "      <th>Greenlined</th>\n",
       "      <th>Canopy</th>\n",
       "    </tr>\n",
       "  </thead>\n",
       "  <tbody>\n",
       "    <tr>\n",
       "      <th>count</th>\n",
       "      <td>27.000000</td>\n",
       "      <td>27.000000</td>\n",
       "      <td>27.000000</td>\n",
       "      <td>27.000000</td>\n",
       "      <td>27.000000</td>\n",
       "    </tr>\n",
       "    <tr>\n",
       "      <th>mean</th>\n",
       "      <td>0.682963</td>\n",
       "      <td>0.031111</td>\n",
       "      <td>0.001111</td>\n",
       "      <td>0.000370</td>\n",
       "      <td>0.146252</td>\n",
       "    </tr>\n",
       "    <tr>\n",
       "      <th>std</th>\n",
       "      <td>0.177630</td>\n",
       "      <td>0.082943</td>\n",
       "      <td>0.005774</td>\n",
       "      <td>0.001925</td>\n",
       "      <td>0.052646</td>\n",
       "    </tr>\n",
       "    <tr>\n",
       "      <th>min</th>\n",
       "      <td>0.420000</td>\n",
       "      <td>0.000000</td>\n",
       "      <td>0.000000</td>\n",
       "      <td>0.000000</td>\n",
       "      <td>0.069200</td>\n",
       "    </tr>\n",
       "    <tr>\n",
       "      <th>25%</th>\n",
       "      <td>0.570000</td>\n",
       "      <td>0.000000</td>\n",
       "      <td>0.000000</td>\n",
       "      <td>0.000000</td>\n",
       "      <td>0.095900</td>\n",
       "    </tr>\n",
       "    <tr>\n",
       "      <th>50%</th>\n",
       "      <td>0.660000</td>\n",
       "      <td>0.000000</td>\n",
       "      <td>0.000000</td>\n",
       "      <td>0.000000</td>\n",
       "      <td>0.143000</td>\n",
       "    </tr>\n",
       "    <tr>\n",
       "      <th>75%</th>\n",
       "      <td>0.750000</td>\n",
       "      <td>0.000000</td>\n",
       "      <td>0.000000</td>\n",
       "      <td>0.000000</td>\n",
       "      <td>0.187850</td>\n",
       "    </tr>\n",
       "    <tr>\n",
       "      <th>max</th>\n",
       "      <td>1.000000</td>\n",
       "      <td>0.340000</td>\n",
       "      <td>0.030000</td>\n",
       "      <td>0.010000</td>\n",
       "      <td>0.244800</td>\n",
       "    </tr>\n",
       "  </tbody>\n",
       "</table>\n",
       "</div>"
      ],
      "text/plain": [
       "        Redlined   Yellowlined  Bluelined  Greenlined     Canopy\n",
       "count  27.000000     27.000000  27.000000   27.000000  27.000000\n",
       "mean    0.682963      0.031111   0.001111    0.000370   0.146252\n",
       "std     0.177630      0.082943   0.005774    0.001925   0.052646\n",
       "min     0.420000      0.000000   0.000000    0.000000   0.069200\n",
       "25%     0.570000      0.000000   0.000000    0.000000   0.095900\n",
       "50%     0.660000      0.000000   0.000000    0.000000   0.143000\n",
       "75%     0.750000      0.000000   0.000000    0.000000   0.187850\n",
       "max     1.000000      0.340000   0.030000    0.010000   0.244800"
      ]
     },
     "execution_count": 47,
     "metadata": {},
     "output_type": "execute_result"
    }
   ],
   "source": [
    "n1.describe()"
   ]
  },
  {
   "cell_type": "code",
   "execution_count": 48,
   "id": "1fe06a20",
   "metadata": {},
   "outputs": [
    {
     "data": {
      "text/html": [
       "<div>\n",
       "<style scoped>\n",
       "    .dataframe tbody tr th:only-of-type {\n",
       "        vertical-align: middle;\n",
       "    }\n",
       "\n",
       "    .dataframe tbody tr th {\n",
       "        vertical-align: top;\n",
       "    }\n",
       "\n",
       "    .dataframe thead th {\n",
       "        text-align: right;\n",
       "    }\n",
       "</style>\n",
       "<table border=\"1\" class=\"dataframe\">\n",
       "  <thead>\n",
       "    <tr style=\"text-align: right;\">\n",
       "      <th></th>\n",
       "      <th>Redlined</th>\n",
       "      <th>Yellowlined</th>\n",
       "      <th>Bluelined</th>\n",
       "      <th>Greenlined</th>\n",
       "      <th>Canopy</th>\n",
       "    </tr>\n",
       "  </thead>\n",
       "  <tbody>\n",
       "    <tr>\n",
       "      <th>count</th>\n",
       "      <td>25.000000</td>\n",
       "      <td>25.000000</td>\n",
       "      <td>25.000000</td>\n",
       "      <td>25.00</td>\n",
       "      <td>25.000000</td>\n",
       "    </tr>\n",
       "    <tr>\n",
       "      <th>mean</th>\n",
       "      <td>0.121200</td>\n",
       "      <td>0.102400</td>\n",
       "      <td>0.023600</td>\n",
       "      <td>0.01</td>\n",
       "      <td>0.166512</td>\n",
       "    </tr>\n",
       "    <tr>\n",
       "      <th>std</th>\n",
       "      <td>0.128592</td>\n",
       "      <td>0.125575</td>\n",
       "      <td>0.056854</td>\n",
       "      <td>0.05</td>\n",
       "      <td>0.081367</td>\n",
       "    </tr>\n",
       "    <tr>\n",
       "      <th>min</th>\n",
       "      <td>0.000000</td>\n",
       "      <td>0.000000</td>\n",
       "      <td>0.000000</td>\n",
       "      <td>0.00</td>\n",
       "      <td>0.035900</td>\n",
       "    </tr>\n",
       "    <tr>\n",
       "      <th>25%</th>\n",
       "      <td>0.000000</td>\n",
       "      <td>0.000000</td>\n",
       "      <td>0.000000</td>\n",
       "      <td>0.00</td>\n",
       "      <td>0.091500</td>\n",
       "    </tr>\n",
       "    <tr>\n",
       "      <th>50%</th>\n",
       "      <td>0.090000</td>\n",
       "      <td>0.000000</td>\n",
       "      <td>0.000000</td>\n",
       "      <td>0.00</td>\n",
       "      <td>0.160200</td>\n",
       "    </tr>\n",
       "    <tr>\n",
       "      <th>75%</th>\n",
       "      <td>0.230000</td>\n",
       "      <td>0.220000</td>\n",
       "      <td>0.000000</td>\n",
       "      <td>0.00</td>\n",
       "      <td>0.225800</td>\n",
       "    </tr>\n",
       "    <tr>\n",
       "      <th>max</th>\n",
       "      <td>0.370000</td>\n",
       "      <td>0.310000</td>\n",
       "      <td>0.170000</td>\n",
       "      <td>0.25</td>\n",
       "      <td>0.298000</td>\n",
       "    </tr>\n",
       "  </tbody>\n",
       "</table>\n",
       "</div>"
      ],
      "text/plain": [
       "        Redlined   Yellowlined  Bluelined  Greenlined     Canopy\n",
       "count  25.000000     25.000000  25.000000       25.00  25.000000\n",
       "mean    0.121200      0.102400   0.023600        0.01   0.166512\n",
       "std     0.128592      0.125575   0.056854        0.05   0.081367\n",
       "min     0.000000      0.000000   0.000000        0.00   0.035900\n",
       "25%     0.000000      0.000000   0.000000        0.00   0.091500\n",
       "50%     0.090000      0.000000   0.000000        0.00   0.160200\n",
       "75%     0.230000      0.220000   0.000000        0.00   0.225800\n",
       "max     0.370000      0.310000   0.170000        0.25   0.298000"
      ]
     },
     "execution_count": 48,
     "metadata": {},
     "output_type": "execute_result"
    }
   ],
   "source": [
    "n2.describe()"
   ]
  },
  {
   "cell_type": "code",
   "execution_count": 49,
   "id": "4cd7ea0d",
   "metadata": {},
   "outputs": [
    {
     "data": {
      "text/html": [
       "<div>\n",
       "<style scoped>\n",
       "    .dataframe tbody tr th:only-of-type {\n",
       "        vertical-align: middle;\n",
       "    }\n",
       "\n",
       "    .dataframe tbody tr th {\n",
       "        vertical-align: top;\n",
       "    }\n",
       "\n",
       "    .dataframe thead th {\n",
       "        text-align: right;\n",
       "    }\n",
       "</style>\n",
       "<table border=\"1\" class=\"dataframe\">\n",
       "  <thead>\n",
       "    <tr style=\"text-align: right;\">\n",
       "      <th></th>\n",
       "      <th>Redlined</th>\n",
       "      <th>Yellowlined</th>\n",
       "      <th>Bluelined</th>\n",
       "      <th>Greenlined</th>\n",
       "      <th>Canopy</th>\n",
       "    </tr>\n",
       "  </thead>\n",
       "  <tbody>\n",
       "    <tr>\n",
       "      <th>count</th>\n",
       "      <td>37.000000</td>\n",
       "      <td>37.000000</td>\n",
       "      <td>37.000000</td>\n",
       "      <td>37.000000</td>\n",
       "      <td>37.000000</td>\n",
       "    </tr>\n",
       "    <tr>\n",
       "      <th>mean</th>\n",
       "      <td>0.097568</td>\n",
       "      <td>0.628378</td>\n",
       "      <td>0.050811</td>\n",
       "      <td>0.000811</td>\n",
       "      <td>0.191378</td>\n",
       "    </tr>\n",
       "    <tr>\n",
       "      <th>std</th>\n",
       "      <td>0.135306</td>\n",
       "      <td>0.176958</td>\n",
       "      <td>0.079735</td>\n",
       "      <td>0.004932</td>\n",
       "      <td>0.038726</td>\n",
       "    </tr>\n",
       "    <tr>\n",
       "      <th>min</th>\n",
       "      <td>0.000000</td>\n",
       "      <td>0.380000</td>\n",
       "      <td>0.000000</td>\n",
       "      <td>0.000000</td>\n",
       "      <td>0.107200</td>\n",
       "    </tr>\n",
       "    <tr>\n",
       "      <th>25%</th>\n",
       "      <td>0.000000</td>\n",
       "      <td>0.490000</td>\n",
       "      <td>0.000000</td>\n",
       "      <td>0.000000</td>\n",
       "      <td>0.169000</td>\n",
       "    </tr>\n",
       "    <tr>\n",
       "      <th>50%</th>\n",
       "      <td>0.010000</td>\n",
       "      <td>0.610000</td>\n",
       "      <td>0.000000</td>\n",
       "      <td>0.000000</td>\n",
       "      <td>0.191200</td>\n",
       "    </tr>\n",
       "    <tr>\n",
       "      <th>75%</th>\n",
       "      <td>0.150000</td>\n",
       "      <td>0.740000</td>\n",
       "      <td>0.060000</td>\n",
       "      <td>0.000000</td>\n",
       "      <td>0.213600</td>\n",
       "    </tr>\n",
       "    <tr>\n",
       "      <th>max</th>\n",
       "      <td>0.480000</td>\n",
       "      <td>1.000000</td>\n",
       "      <td>0.290000</td>\n",
       "      <td>0.030000</td>\n",
       "      <td>0.258900</td>\n",
       "    </tr>\n",
       "  </tbody>\n",
       "</table>\n",
       "</div>"
      ],
      "text/plain": [
       "        Redlined   Yellowlined  Bluelined  Greenlined     Canopy\n",
       "count  37.000000     37.000000  37.000000   37.000000  37.000000\n",
       "mean    0.097568      0.628378   0.050811    0.000811   0.191378\n",
       "std     0.135306      0.176958   0.079735    0.004932   0.038726\n",
       "min     0.000000      0.380000   0.000000    0.000000   0.107200\n",
       "25%     0.000000      0.490000   0.000000    0.000000   0.169000\n",
       "50%     0.010000      0.610000   0.000000    0.000000   0.191200\n",
       "75%     0.150000      0.740000   0.060000    0.000000   0.213600\n",
       "max     0.480000      1.000000   0.290000    0.030000   0.258900"
      ]
     },
     "execution_count": 49,
     "metadata": {},
     "output_type": "execute_result"
    }
   ],
   "source": [
    "n3.describe()\n"
   ]
  },
  {
   "cell_type": "code",
   "execution_count": 50,
   "id": "8e377bea",
   "metadata": {},
   "outputs": [
    {
     "data": {
      "text/html": [
       "<div>\n",
       "<style scoped>\n",
       "    .dataframe tbody tr th:only-of-type {\n",
       "        vertical-align: middle;\n",
       "    }\n",
       "\n",
       "    .dataframe tbody tr th {\n",
       "        vertical-align: top;\n",
       "    }\n",
       "\n",
       "    .dataframe thead th {\n",
       "        text-align: right;\n",
       "    }\n",
       "</style>\n",
       "<table border=\"1\" class=\"dataframe\">\n",
       "  <thead>\n",
       "    <tr style=\"text-align: right;\">\n",
       "      <th></th>\n",
       "      <th>Redlined</th>\n",
       "      <th>Yellowlined</th>\n",
       "      <th>Bluelined</th>\n",
       "      <th>Greenlined</th>\n",
       "      <th>Canopy</th>\n",
       "    </tr>\n",
       "  </thead>\n",
       "  <tbody>\n",
       "    <tr>\n",
       "      <th>count</th>\n",
       "      <td>9.000000</td>\n",
       "      <td>9.000000</td>\n",
       "      <td>9.000000</td>\n",
       "      <td>9.000000</td>\n",
       "      <td>9.000000</td>\n",
       "    </tr>\n",
       "    <tr>\n",
       "      <th>mean</th>\n",
       "      <td>0.011111</td>\n",
       "      <td>0.168889</td>\n",
       "      <td>0.467778</td>\n",
       "      <td>0.065556</td>\n",
       "      <td>0.302511</td>\n",
       "    </tr>\n",
       "    <tr>\n",
       "      <th>std</th>\n",
       "      <td>0.022608</td>\n",
       "      <td>0.156560</td>\n",
       "      <td>0.258349</td>\n",
       "      <td>0.144318</td>\n",
       "      <td>0.101983</td>\n",
       "    </tr>\n",
       "    <tr>\n",
       "      <th>min</th>\n",
       "      <td>0.000000</td>\n",
       "      <td>0.000000</td>\n",
       "      <td>0.200000</td>\n",
       "      <td>0.000000</td>\n",
       "      <td>0.203900</td>\n",
       "    </tr>\n",
       "    <tr>\n",
       "      <th>25%</th>\n",
       "      <td>0.000000</td>\n",
       "      <td>0.050000</td>\n",
       "      <td>0.290000</td>\n",
       "      <td>0.000000</td>\n",
       "      <td>0.225200</td>\n",
       "    </tr>\n",
       "    <tr>\n",
       "      <th>50%</th>\n",
       "      <td>0.000000</td>\n",
       "      <td>0.080000</td>\n",
       "      <td>0.370000</td>\n",
       "      <td>0.000000</td>\n",
       "      <td>0.278100</td>\n",
       "    </tr>\n",
       "    <tr>\n",
       "      <th>75%</th>\n",
       "      <td>0.000000</td>\n",
       "      <td>0.320000</td>\n",
       "      <td>0.590000</td>\n",
       "      <td>0.000000</td>\n",
       "      <td>0.343800</td>\n",
       "    </tr>\n",
       "    <tr>\n",
       "      <th>max</th>\n",
       "      <td>0.060000</td>\n",
       "      <td>0.370000</td>\n",
       "      <td>1.000000</td>\n",
       "      <td>0.420000</td>\n",
       "      <td>0.487800</td>\n",
       "    </tr>\n",
       "  </tbody>\n",
       "</table>\n",
       "</div>"
      ],
      "text/plain": [
       "       Redlined   Yellowlined  Bluelined  Greenlined    Canopy\n",
       "count  9.000000      9.000000   9.000000    9.000000  9.000000\n",
       "mean   0.011111      0.168889   0.467778    0.065556  0.302511\n",
       "std    0.022608      0.156560   0.258349    0.144318  0.101983\n",
       "min    0.000000      0.000000   0.200000    0.000000  0.203900\n",
       "25%    0.000000      0.050000   0.290000    0.000000  0.225200\n",
       "50%    0.000000      0.080000   0.370000    0.000000  0.278100\n",
       "75%    0.000000      0.320000   0.590000    0.000000  0.343800\n",
       "max    0.060000      0.370000   1.000000    0.420000  0.487800"
      ]
     },
     "execution_count": 50,
     "metadata": {},
     "output_type": "execute_result"
    }
   ],
   "source": [
    "n4.describe()"
   ]
  },
  {
   "cell_type": "code",
   "execution_count": 51,
   "id": "09c71cb8",
   "metadata": {},
   "outputs": [],
   "source": [
    "canopy=[0.166512,0.146252,0.302511,0.191378]\n",
    "redline=[0.121200,0.682963,0.011111,0.097568]\n",
    "yellowline=[0.102400,0.031111,0.168889,0.628378]\n",
    "greenline=[0.01,0.000370,0.065556,0.000811]\n",
    "blueline=[0.023600,0.001111,0.467778,0.050811]"
   ]
  },
  {
   "cell_type": "code",
   "execution_count": 52,
   "id": "48c8f178",
   "metadata": {},
   "outputs": [
    {
     "data": {
      "text/plain": [
       "Index(['canopy', 'greenline', 'yellowline', 'redline', 'blueline'], dtype='object')"
      ]
     },
     "execution_count": 52,
     "metadata": {},
     "output_type": "execute_result"
    }
   ],
   "source": [
    "dat={\"canopy\": canopy,\n",
    "    \"greenline\" : greenline,\n",
    "    \"yellowline\" : yellowline,\n",
    "    \"redline\" : redline,\n",
    "    \"blueline\": blueline}\n",
    "info=pd.DataFrame(data=dat)\n",
    "info.columns"
   ]
  },
  {
   "cell_type": "code",
   "execution_count": 53,
   "id": "799bd6cc",
   "metadata": {},
   "outputs": [
    {
     "name": "stderr",
     "output_type": "stream",
     "text": [
      "No handles with labels found to put in legend.\n"
     ]
    },
    {
     "data": {
      "text/plain": [
       "<matplotlib.legend.Legend at 0x7f8902f894f0>"
      ]
     },
     "execution_count": 53,
     "metadata": {},
     "output_type": "execute_result"
    },
    {
     "data": {
      "image/png": "[encoded data removed]",
      "text/plain": [
       "<Figure size 432x288 with 1 Axes>"
      ]
     },
     "metadata": {
      "needs_background": "light"
     },
     "output_type": "display_data"
    }
   ],
   "source": [
    "plt.plot(info[\"canopy\"])\n",
    "plt.plot(info[\"blueline\"])\n",
    "plt.plot(info[\"greenline\"])\n",
    "plt.plot(info[\"yellowline\"])\n",
    "plt.plot(info[\"redline\"])\n",
    "plt.xlabel(\"c1,c2,c3,c4\")\n",
    "\n",
    "plt.legend()\n"
   ]
  },
  {
   "cell_type": "markdown",
   "id": "afd7ab4d",
   "metadata": {},
   "source": [
    "# Machine Learning: Trying to see the prediction power of our clusters\n"
   ]
  },
  {
   "cell_type": "code",
   "execution_count": 54,
   "id": "d8626ba8",
   "metadata": {},
   "outputs": [
    {
     "data": {
      "text/html": [
       "<div>\n",
       "<style scoped>\n",
       "    .dataframe tbody tr th:only-of-type {\n",
       "        vertical-align: middle;\n",
       "    }\n",
       "\n",
       "    .dataframe tbody tr th {\n",
       "        vertical-align: top;\n",
       "    }\n",
       "\n",
       "    .dataframe thead th {\n",
       "        text-align: right;\n",
       "    }\n",
       "</style>\n",
       "<table border=\"1\" class=\"dataframe\">\n",
       "  <thead>\n",
       "    <tr style=\"text-align: right;\">\n",
       "      <th></th>\n",
       "      <th>PRI_NEIGH</th>\n",
       "      <th>Redlined</th>\n",
       "      <th>Yellowlined</th>\n",
       "      <th>Bluelined</th>\n",
       "      <th>Greenlined</th>\n",
       "      <th>Canopy</th>\n",
       "      <th>Park</th>\n",
       "      <th>Cdeath</th>\n",
       "    </tr>\n",
       "  </thead>\n",
       "  <tbody>\n",
       "    <tr>\n",
       "      <th>0</th>\n",
       "      <td>Albany Park</td>\n",
       "      <td>0.00</td>\n",
       "      <td>0.81</td>\n",
       "      <td>0.12</td>\n",
       "      <td>0.00</td>\n",
       "      <td>0.2413</td>\n",
       "      <td>0.02</td>\n",
       "      <td>18</td>\n",
       "    </tr>\n",
       "    <tr>\n",
       "      <th>1</th>\n",
       "      <td>Archer Heights</td>\n",
       "      <td>0.10</td>\n",
       "      <td>0.28</td>\n",
       "      <td>0.00</td>\n",
       "      <td>0.00</td>\n",
       "      <td>0.0760</td>\n",
       "      <td>0.02</td>\n",
       "      <td>2</td>\n",
       "    </tr>\n",
       "    <tr>\n",
       "      <th>2</th>\n",
       "      <td>Armour Square</td>\n",
       "      <td>0.68</td>\n",
       "      <td>0.00</td>\n",
       "      <td>0.00</td>\n",
       "      <td>0.00</td>\n",
       "      <td>0.0872</td>\n",
       "      <td>0.03</td>\n",
       "      <td>2</td>\n",
       "    </tr>\n",
       "    <tr>\n",
       "      <th>3</th>\n",
       "      <td>Ashburn</td>\n",
       "      <td>0.58</td>\n",
       "      <td>0.00</td>\n",
       "      <td>0.00</td>\n",
       "      <td>0.01</td>\n",
       "      <td>0.1633</td>\n",
       "      <td>0.02</td>\n",
       "      <td>4</td>\n",
       "    </tr>\n",
       "    <tr>\n",
       "      <th>4</th>\n",
       "      <td>Auburn Gresham</td>\n",
       "      <td>0.21</td>\n",
       "      <td>0.44</td>\n",
       "      <td>0.15</td>\n",
       "      <td>0.00</td>\n",
       "      <td>0.1874</td>\n",
       "      <td>0.03</td>\n",
       "      <td>12</td>\n",
       "    </tr>\n",
       "    <tr>\n",
       "      <th>...</th>\n",
       "      <td>...</td>\n",
       "      <td>...</td>\n",
       "      <td>...</td>\n",
       "      <td>...</td>\n",
       "      <td>...</td>\n",
       "      <td>...</td>\n",
       "      <td>...</td>\n",
       "      <td>...</td>\n",
       "    </tr>\n",
       "    <tr>\n",
       "      <th>61</th>\n",
       "      <td>West Lawn</td>\n",
       "      <td>0.04</td>\n",
       "      <td>0.40</td>\n",
       "      <td>0.00</td>\n",
       "      <td>0.00</td>\n",
       "      <td>0.1072</td>\n",
       "      <td>0.02</td>\n",
       "      <td>9</td>\n",
       "    </tr>\n",
       "    <tr>\n",
       "      <th>62</th>\n",
       "      <td>West Pullman</td>\n",
       "      <td>0.28</td>\n",
       "      <td>0.22</td>\n",
       "      <td>0.00</td>\n",
       "      <td>0.00</td>\n",
       "      <td>0.2735</td>\n",
       "      <td>0.03</td>\n",
       "      <td>11</td>\n",
       "    </tr>\n",
       "    <tr>\n",
       "      <th>63</th>\n",
       "      <td>West Ridge</td>\n",
       "      <td>0.00</td>\n",
       "      <td>0.08</td>\n",
       "      <td>0.69</td>\n",
       "      <td>0.00</td>\n",
       "      <td>0.2519</td>\n",
       "      <td>0.09</td>\n",
       "      <td>22</td>\n",
       "    </tr>\n",
       "    <tr>\n",
       "      <th>64</th>\n",
       "      <td>West Town</td>\n",
       "      <td>0.49</td>\n",
       "      <td>0.00</td>\n",
       "      <td>0.00</td>\n",
       "      <td>0.00</td>\n",
       "      <td>0.0827</td>\n",
       "      <td>0.02</td>\n",
       "      <td>29</td>\n",
       "    </tr>\n",
       "    <tr>\n",
       "      <th>65</th>\n",
       "      <td>Woodlawn</td>\n",
       "      <td>0.48</td>\n",
       "      <td>0.65</td>\n",
       "      <td>0.00</td>\n",
       "      <td>0.00</td>\n",
       "      <td>0.1690</td>\n",
       "      <td>0.01</td>\n",
       "      <td>6</td>\n",
       "    </tr>\n",
       "  </tbody>\n",
       "</table>\n",
       "<p>66 rows × 8 columns</p>\n",
       "</div>"
      ],
      "text/plain": [
       "         PRI_NEIGH  Redlined   Yellowlined  Bluelined  Greenlined  Canopy  \\\n",
       "0      Albany Park      0.00          0.81       0.12        0.00  0.2413   \n",
       "1   Archer Heights      0.10          0.28       0.00        0.00  0.0760   \n",
       "2    Armour Square      0.68          0.00       0.00        0.00  0.0872   \n",
       "3          Ashburn      0.58          0.00       0.00        0.01  0.1633   \n",
       "4   Auburn Gresham      0.21          0.44       0.15        0.00  0.1874   \n",
       "..             ...       ...           ...        ...         ...     ...   \n",
       "61       West Lawn      0.04          0.40       0.00        0.00  0.1072   \n",
       "62    West Pullman      0.28          0.22       0.00        0.00  0.2735   \n",
       "63      West Ridge      0.00          0.08       0.69        0.00  0.2519   \n",
       "64       West Town      0.49          0.00       0.00        0.00  0.0827   \n",
       "65        Woodlawn      0.48          0.65       0.00        0.00  0.1690   \n",
       "\n",
       "    Park  Cdeath  \n",
       "0   0.02      18  \n",
       "1   0.02       2  \n",
       "2   0.03       2  \n",
       "3   0.02       4  \n",
       "4   0.03      12  \n",
       "..   ...     ...  \n",
       "61  0.02       9  \n",
       "62  0.03      11  \n",
       "63  0.09      22  \n",
       "64  0.02      29  \n",
       "65  0.01       6  \n",
       "\n",
       "[66 rows x 8 columns]"
      ]
     },
     "execution_count": 54,
     "metadata": {},
     "output_type": "execute_result"
    }
   ],
   "source": [
    "merger1= pd.merge(dataa1,suicide1, how=\"inner\", on= \"PRI_NEIGH\")\n",
    "merger1"
   ]
  },
  {
   "cell_type": "code",
   "execution_count": 55,
   "id": "b9ee5bf6",
   "metadata": {},
   "outputs": [],
   "source": [
    "predictors=[\"Redlined\",' Yellowlined','Bluelined','Greenlined','Canopy']\n",
    "x=merger1[predictors]\n",
    "y=merger1[\"Cdeath\"]"
   ]
  },
  {
   "cell_type": "code",
   "execution_count": 56,
   "id": "f873fa51",
   "metadata": {},
   "outputs": [
    {
     "data": {
      "text/plain": [
       "66"
      ]
     },
     "execution_count": 56,
     "metadata": {},
     "output_type": "execute_result"
    }
   ],
   "source": [
    "len(y)"
   ]
  },
  {
   "cell_type": "code",
   "execution_count": 57,
   "id": "59dd0ec3",
   "metadata": {},
   "outputs": [
    {
     "name": "stderr",
     "output_type": "stream",
     "text": [
      "No handles with labels found to put in legend.\n",
      "No handles with labels found to put in legend.\n",
      "No handles with labels found to put in legend.\n",
      "No handles with labels found to put in legend.\n",
      "No handles with labels found to put in legend.\n",
      "No handles with labels found to put in legend.\n"
     ]
    },
    {
     "name": "stdout",
     "output_type": "stream",
     "text": [
      "[ 0  1  2  3  5  6  7  8  9 10 11 12 13 14 15 16 17 18 19 21 22 24 25 26\n",
      " 27 28 29 30 31 32 33 34 36 37 38 39 40 41 42 43 45 46 48 49 50 51 52 53\n",
      " 54 56 57 58 59 60 61 62 63 64 65]\n",
      "[ 4 20 23 35 44 47 55]\n",
      "Mean squared error: 32.24\n",
      "[ 0  1  2  4  5  6  7  8  9 10 11 13 14 16 17 18 19 20 22 23 24 25 26 27\n",
      " 28 29 30 31 32 33 34 35 36 37 38 39 40 42 43 44 45 47 48 49 50 51 52 53\n",
      " 54 55 56 57 58 59 61 62 63 64 65]\n",
      "[ 3 12 15 21 41 46 60]\n",
      "Mean squared error: 34.08\n",
      "[ 0  1  2  3  4  5  6  7  8  9 10 11 12 13 14 15 18 19 20 21 22 23 24 25\n",
      " 26 27 28 29 30 31 32 33 34 35 36 37 38 40 41 42 43 44 45 46 47 49 50 51\n",
      " 52 53 54 55 56 60 61 62 63 64 65]\n",
      "[16 17 39 48 57 58 59]\n",
      "Mean squared error: 35.00\n",
      "[ 0  1  2  3  4  5  6  7  8  9 10 11 12 13 15 16 17 20 21 22 23 24 25 26\n",
      " 27 28 29 30 31 32 33 34 35 36 37 38 39 40 41 43 44 45 46 47 48 49 50 52\n",
      " 53 55 56 57 58 59 60 61 62 64 65]\n",
      "[14 18 19 42 51 54 63]\n",
      "Mean squared error: 49.37\n",
      "[ 0  1  3  4  5  6  7  9 10 11 12 14 15 16 17 18 19 20 21 22 23 24 25 26\n",
      " 29 30 31 32 33 34 35 37 38 39 40 41 42 43 44 45 46 47 48 49 50 51 53 54\n",
      " 55 56 57 58 59 60 61 62 63 64 65]\n",
      "[ 2  8 13 27 28 36 52]\n",
      "Mean squared error: 62.40\n",
      "[ 0  1  2  3  4  5  6  7  8 11 12 13 14 15 16 17 18 19 20 21 22 23 24 26\n",
      " 27 28 29 32 33 34 35 36 37 39 41 42 43 44 45 46 47 48 49 50 51 52 53 54\n",
      " 55 56 57 58 59 60 61 62 63 64 65]\n",
      "[ 9 10 25 30 31 38 40]\n",
      "Mean squared error: 2435.71\n",
      "[ 0  2  3  4  6  7  8  9 10 12 13 14 15 16 17 18 19 20 21 23 24 25 26 27\n",
      " 28 30 31 32 33 34 35 36 37 38 39 40 41 42 43 44 45 46 47 48 49 51 52 53\n",
      " 54 55 56 57 58 59 60 61 62 63 64 65]\n",
      "[ 1  5 11 22 29 50]\n"
     ]
    },
    {
     "name": "stderr",
     "output_type": "stream",
     "text": [
      "No handles with labels found to put in legend.\n",
      "No handles with labels found to put in legend.\n",
      "No handles with labels found to put in legend.\n",
      "No handles with labels found to put in legend.\n"
     ]
    },
    {
     "name": "stdout",
     "output_type": "stream",
     "text": [
      "Mean squared error: 50.17\n",
      "[ 0  1  2  3  4  5  8  9 10 11 12 13 14 15 16 17 18 19 20 21 22 23 24 25\n",
      " 26 27 28 29 30 31 32 33 34 35 36 38 39 40 41 42 43 44 46 47 48 49 50 51\n",
      " 52 53 54 55 57 58 59 60 61 62 63 64]\n",
      "[ 6  7 37 45 56 65]\n",
      "Mean squared error: 40.37\n",
      "[ 1  2  3  4  5  6  7  8  9 10 11 12 13 14 15 16 17 18 19 20 21 22 23 24\n",
      " 25 26 27 28 29 30 31 35 36 37 38 39 40 41 42 43 44 45 46 47 48 50 51 52\n",
      " 54 55 56 57 58 59 60 61 62 63 64 65]\n",
      "[ 0 32 33 34 49 53]\n",
      "Mean squared error: 200.73\n",
      "[ 0  1  2  3  4  5  6  7  8  9 10 11 12 13 14 15 16 17 18 19 20 21 22 23\n",
      " 25 27 28 29 30 31 32 33 34 35 36 37 38 39 40 41 42 44 45 46 47 48 49 50\n",
      " 51 52 53 54 55 56 57 58 59 60 63 65]\n",
      "[24 26 43 61 62 64]\n",
      "Mean squared error: 122.48\n"
     ]
    },
    {
     "data": {
      "image/png": "[encoded data removed]",
      "text/plain": [
       "<Figure size 432x288 with 1 Axes>"
      ]
     },
     "metadata": {
      "needs_background": "light"
     },
     "output_type": "display_data"
    }
   ],
   "source": [
    "#running a simple regression\n",
    "\n",
    "from sklearn import linear_model\n",
    "from sklearn.model_selection import KFold\n",
    "from sklearn.metrics import mean_squared_error, r2_score\n",
    "\n",
    "\n",
    "\n",
    "kf = KFold(n_splits=10,shuffle=True)\n",
    "\n",
    "\n",
    "for train_index, test_index in kf.split(x):\n",
    "    print(train_index)\n",
    "    print(test_index)\n",
    "    x_train, x_test = x.iloc[train_index], x.iloc[test_index]\n",
    "    y_train, y_test = y[train_index], y[test_index]\n",
    "    res = linear_model.LinearRegression()\n",
    "    res.fit(x_train,y_train)\n",
    "    pred= res.predict(x_test)\n",
    "    plt.figaspect\n",
    "    plt.barh(predictors, res.coef_)\n",
    "    plt.legend()\n",
    "    print(\"Mean squared error: %.2f\" % mean_squared_error(y_test, pred))\n",
    "    #plt.scatter(y_test, pred, color=\"black\")\n",
    "    #plt.plot(y_test, pred, color=\"blue\", linewidth=3)\n",
    "\n",
    "\n"
   ]
  },
  {
   "cell_type": "code",
   "execution_count": 58,
   "id": "8cd143a9",
   "metadata": {},
   "outputs": [
    {
     "data": {
      "text/plain": [
       "array([ -5.03857297,  18.80070404,   3.01601363,  27.68373217,\n",
       "       -22.40676403])"
      ]
     },
     "execution_count": 58,
     "metadata": {},
     "output_type": "execute_result"
    }
   ],
   "source": [
    "res.coef_"
   ]
  },
  {
   "cell_type": "code",
   "execution_count": 59,
   "id": "432273d3",
   "metadata": {},
   "outputs": [
    {
     "data": {
      "text/plain": [
       "0.31073370055855454"
      ]
     },
     "execution_count": 59,
     "metadata": {},
     "output_type": "execute_result"
    }
   ],
   "source": [
    "res.score(x,y)"
   ]
  },
  {
   "cell_type": "code",
   "execution_count": 60,
   "id": "5153b1bd",
   "metadata": {},
   "outputs": [
    {
     "data": {
      "text/plain": [
       "LinearRegression()"
      ]
     },
     "execution_count": 60,
     "metadata": {},
     "output_type": "execute_result"
    }
   ],
   "source": [
    "res = linear_model.LinearRegression()\n",
    "res.fit(x,y)"
   ]
  },
  {
   "cell_type": "code",
   "execution_count": 61,
   "id": "65676dbe",
   "metadata": {},
   "outputs": [
    {
     "data": {
      "text/plain": [
       "<BarContainer object of 5 artists>"
      ]
     },
     "execution_count": 61,
     "metadata": {},
     "output_type": "execute_result"
    },
    {
     "data": {
      "image/png": "[encoded data removed]",
      "text/plain": [
       "<Figure size 432x288 with 1 Axes>"
      ]
     },
     "metadata": {
      "needs_background": "light"
     },
     "output_type": "display_data"
    }
   ],
   "source": [
    "plt.barh(predictors, res.coef_)\n"
   ]
  },
  {
   "cell_type": "code",
   "execution_count": 62,
   "id": "f1fc783b",
   "metadata": {},
   "outputs": [
    {
     "name": "stdout",
     "output_type": "stream",
     "text": [
      "Mean squared error: 17.71\n",
      "Mean squared error: 130.57\n",
      "Mean squared error: 25.79\n",
      "Mean squared error: 44.46\n",
      "Mean squared error: 74.98\n",
      "Mean squared error: 80.43\n",
      "Mean squared error: 51.53\n",
      "Mean squared error: 59.48\n",
      "Mean squared error: 84.94\n",
      "Mean squared error: 95.61\n"
     ]
    }
   ],
   "source": [
    "#now lets do random forest regressor\n",
    "\n",
    "from sklearn.ensemble import RandomForestRegressor\n",
    "\n",
    "regr = RandomForestRegressor(n_estimators=100, random_state=0)\n",
    "\n",
    "for train_index, test_index in kf.split(x):\n",
    "    #print(train_index)\n",
    "    #print(test_index)\n",
    "    x_train, x_test = x.iloc[train_index], x.iloc[test_index]\n",
    "    y_train, y_test = y[train_index], y[test_index]\n",
    "    regr.fit(x_train,y_train)\n",
    "    pred= regr.predict(x_test)\n",
    "    regr.feature_importances_\n",
    "    print(\"Mean squared error: %.2f\" % mean_squared_error(y_test, pred))\n",
    "    #regr.get_params(10)\n",
    "    regr.feature_importances_\n",
    "    #plt.scatter(y_test, pred, color=\"black\")\n",
    "    #plt.plot(y_test, pred, color=\"blue\", linewidth=3)\n"
   ]
  },
  {
   "cell_type": "code",
   "execution_count": 48,
   "id": "95771770",
   "metadata": {},
   "outputs": [
    {
     "data": {
      "text/plain": [
       "RandomForestRegressor(random_state=0)"
      ]
     },
     "execution_count": 48,
     "metadata": {},
     "output_type": "execute_result"
    }
   ],
   "source": [
    "regr = RandomForestRegressor(n_estimators=100, random_state=0)\n",
    "regr.fit(x,y)\n",
    "\n"
   ]
  },
  {
   "cell_type": "code",
   "execution_count": 49,
   "id": "5957c22d",
   "metadata": {},
   "outputs": [
    {
     "data": {
      "text/plain": [
       "array([0.12919495, 0.55026457, 0.05577574, 0.02264773, 0.242117  ])"
      ]
     },
     "execution_count": 49,
     "metadata": {},
     "output_type": "execute_result"
    }
   ],
   "source": [
    "regr.feature_importances_\n"
   ]
  },
  {
   "cell_type": "code",
   "execution_count": 50,
   "id": "25c8f051",
   "metadata": {},
   "outputs": [
    {
     "data": {
      "text/plain": [
       "<BarContainer object of 5 artists>"
      ]
     },
     "execution_count": 50,
     "metadata": {},
     "output_type": "execute_result"
    },
    {
     "data": {
      "image/png": "[encoded data removed]",
      "text/plain": [
       "<Figure size 432x288 with 1 Axes>"
      ]
     },
     "metadata": {
      "needs_background": "light"
     },
     "output_type": "display_data"
    }
   ],
   "source": [
    "plt.barh(predictors, regr.feature_importances_)\n"
   ]
  },
  {
   "cell_type": "markdown",
   "id": "8a6b4efd",
   "metadata": {},
   "source": [
    "The updated dataset"
   ]
  },
  {
   "cell_type": "code",
   "execution_count": 65,
   "id": "30ecb6bd",
   "metadata": {},
   "outputs": [],
   "source": [
    "os.chdir(\"/Users/amirreza/Desktop\")\n",
    "\n",
    "dfnew= pd.read_csv(\"dataU.csv\")"
   ]
  },
  {
   "cell_type": "code",
   "execution_count": 66,
   "id": "59d1274c",
   "metadata": {},
   "outputs": [
    {
     "data": {
      "text/html": [
       "<div>\n",
       "<style scoped>\n",
       "    .dataframe tbody tr th:only-of-type {\n",
       "        vertical-align: middle;\n",
       "    }\n",
       "\n",
       "    .dataframe tbody tr th {\n",
       "        vertical-align: top;\n",
       "    }\n",
       "\n",
       "    .dataframe thead th {\n",
       "        text-align: right;\n",
       "    }\n",
       "</style>\n",
       "<table border=\"1\" class=\"dataframe\">\n",
       "  <thead>\n",
       "    <tr style=\"text-align: right;\">\n",
       "      <th></th>\n",
       "      <th>Neighborhood</th>\n",
       "      <th>Total Area</th>\n",
       "      <th>Average Housing Cost\\nMedian Sales Price 2021</th>\n",
       "      <th>Housing Energy Usage\\nElectricity Usage KWH/SQFT</th>\n",
       "      <th>% Owner Occupied</th>\n",
       "      <th>% Single Family</th>\n",
       "      <th>Sales per 100 residential parcels (AVG 2005-2021)</th>\n",
       "      <th>% Cost Burdened (owner + renter)</th>\n",
       "    </tr>\n",
       "  </thead>\n",
       "  <tbody>\n",
       "    <tr>\n",
       "      <th>0</th>\n",
       "      <td>Albany Park</td>\n",
       "      <td>4.974188e+06</td>\n",
       "      <td>$495,000</td>\n",
       "      <td>16294.87083</td>\n",
       "      <td>40.3</td>\n",
       "      <td>19.2</td>\n",
       "      <td>5.5</td>\n",
       "      <td>39.3</td>\n",
       "    </tr>\n",
       "    <tr>\n",
       "      <th>1</th>\n",
       "      <td>Andersonville</td>\n",
       "      <td>8.904190e+05</td>\n",
       "      <td>NaN</td>\n",
       "      <td>NaN</td>\n",
       "      <td>NaN</td>\n",
       "      <td>NaN</td>\n",
       "      <td>NaN</td>\n",
       "      <td>NaN</td>\n",
       "    </tr>\n",
       "    <tr>\n",
       "      <th>2</th>\n",
       "      <td>Archer Heights</td>\n",
       "      <td>5.195324e+06</td>\n",
       "      <td>NaN</td>\n",
       "      <td>20489.03412</td>\n",
       "      <td>62.8</td>\n",
       "      <td>42.9</td>\n",
       "      <td>3.9</td>\n",
       "      <td>37.8</td>\n",
       "    </tr>\n",
       "    <tr>\n",
       "      <th>3</th>\n",
       "      <td>Armour Square</td>\n",
       "      <td>1.592448e+06</td>\n",
       "      <td>NaN</td>\n",
       "      <td>25015.03285</td>\n",
       "      <td>34.4</td>\n",
       "      <td>15.8</td>\n",
       "      <td>3.2</td>\n",
       "      <td>40.9</td>\n",
       "    </tr>\n",
       "    <tr>\n",
       "      <th>4</th>\n",
       "      <td>Ashburn</td>\n",
       "      <td>1.258451e+07</td>\n",
       "      <td>NaN</td>\n",
       "      <td>20145.45023</td>\n",
       "      <td>83.7</td>\n",
       "      <td>86.8</td>\n",
       "      <td>4.2</td>\n",
       "      <td>33.8</td>\n",
       "    </tr>\n",
       "    <tr>\n",
       "      <th>...</th>\n",
       "      <td>...</td>\n",
       "      <td>...</td>\n",
       "      <td>...</td>\n",
       "      <td>...</td>\n",
       "      <td>...</td>\n",
       "      <td>...</td>\n",
       "      <td>...</td>\n",
       "      <td>...</td>\n",
       "    </tr>\n",
       "    <tr>\n",
       "      <th>93</th>\n",
       "      <td>West Ridge</td>\n",
       "      <td>9.144224e+06</td>\n",
       "      <td>NaN</td>\n",
       "      <td>22241.92994</td>\n",
       "      <td>47.6</td>\n",
       "      <td>21.5</td>\n",
       "      <td>5.2</td>\n",
       "      <td>45.3</td>\n",
       "    </tr>\n",
       "    <tr>\n",
       "      <th>94</th>\n",
       "      <td>West Town</td>\n",
       "      <td>5.435425e+06</td>\n",
       "      <td>$737,500</td>\n",
       "      <td>17202.36061</td>\n",
       "      <td>40.0</td>\n",
       "      <td>8.6</td>\n",
       "      <td>8.0</td>\n",
       "      <td>29.1</td>\n",
       "    </tr>\n",
       "    <tr>\n",
       "      <th>95</th>\n",
       "      <td>Wicker Park</td>\n",
       "      <td>2.494697e+06</td>\n",
       "      <td>NaN</td>\n",
       "      <td>NaN</td>\n",
       "      <td>NaN</td>\n",
       "      <td>NaN</td>\n",
       "      <td>NaN</td>\n",
       "      <td>NaN</td>\n",
       "    </tr>\n",
       "    <tr>\n",
       "      <th>96</th>\n",
       "      <td>Woodlawn</td>\n",
       "      <td>3.763895e+06</td>\n",
       "      <td>NaN</td>\n",
       "      <td>19620.78157</td>\n",
       "      <td>24.1</td>\n",
       "      <td>7.0</td>\n",
       "      <td>7.0</td>\n",
       "      <td>56.9</td>\n",
       "    </tr>\n",
       "    <tr>\n",
       "      <th>97</th>\n",
       "      <td>Wrigleyville</td>\n",
       "      <td>6.770470e+05</td>\n",
       "      <td>NaN</td>\n",
       "      <td>NaN</td>\n",
       "      <td>NaN</td>\n",
       "      <td>NaN</td>\n",
       "      <td>NaN</td>\n",
       "      <td>NaN</td>\n",
       "    </tr>\n",
       "  </tbody>\n",
       "</table>\n",
       "<p>98 rows × 8 columns</p>\n",
       "</div>"
      ],
      "text/plain": [
       "      Neighborhood    Total Area  \\\n",
       "0      Albany Park  4.974188e+06   \n",
       "1    Andersonville  8.904190e+05   \n",
       "2   Archer Heights  5.195324e+06   \n",
       "3    Armour Square  1.592448e+06   \n",
       "4          Ashburn  1.258451e+07   \n",
       "..             ...           ...   \n",
       "93      West Ridge  9.144224e+06   \n",
       "94       West Town  5.435425e+06   \n",
       "95     Wicker Park  2.494697e+06   \n",
       "96        Woodlawn  3.763895e+06   \n",
       "97    Wrigleyville  6.770470e+05   \n",
       "\n",
       "   Average Housing Cost\\nMedian Sales Price 2021  \\\n",
       "0                                       $495,000   \n",
       "1                                            NaN   \n",
       "2                                            NaN   \n",
       "3                                            NaN   \n",
       "4                                            NaN   \n",
       "..                                           ...   \n",
       "93                                           NaN   \n",
       "94                                      $737,500   \n",
       "95                                           NaN   \n",
       "96                                           NaN   \n",
       "97                                           NaN   \n",
       "\n",
       "    Housing Energy Usage\\nElectricity Usage KWH/SQFT  % Owner Occupied  \\\n",
       "0                                        16294.87083              40.3   \n",
       "1                                                NaN               NaN   \n",
       "2                                        20489.03412              62.8   \n",
       "3                                        25015.03285              34.4   \n",
       "4                                        20145.45023              83.7   \n",
       "..                                               ...               ...   \n",
       "93                                       22241.92994              47.6   \n",
       "94                                       17202.36061              40.0   \n",
       "95                                               NaN               NaN   \n",
       "96                                       19620.78157              24.1   \n",
       "97                                               NaN               NaN   \n",
       "\n",
       "    % Single Family  Sales per 100 residential parcels (AVG 2005-2021)  \\\n",
       "0              19.2                                                5.5   \n",
       "1               NaN                                                NaN   \n",
       "2              42.9                                                3.9   \n",
       "3              15.8                                                3.2   \n",
       "4              86.8                                                4.2   \n",
       "..              ...                                                ...   \n",
       "93             21.5                                                5.2   \n",
       "94              8.6                                                8.0   \n",
       "95              NaN                                                NaN   \n",
       "96              7.0                                                7.0   \n",
       "97              NaN                                                NaN   \n",
       "\n",
       "    % Cost Burdened (owner + renter)  \n",
       "0                               39.3  \n",
       "1                                NaN  \n",
       "2                               37.8  \n",
       "3                               40.9  \n",
       "4                               33.8  \n",
       "..                               ...  \n",
       "93                              45.3  \n",
       "94                              29.1  \n",
       "95                               NaN  \n",
       "96                              56.9  \n",
       "97                               NaN  \n",
       "\n",
       "[98 rows x 8 columns]"
      ]
     },
     "execution_count": 66,
     "metadata": {},
     "output_type": "execute_result"
    }
   ],
   "source": [
    "dfnew"
   ]
  },
  {
   "cell_type": "code",
   "execution_count": 74,
   "id": "4e59f170",
   "metadata": {},
   "outputs": [],
   "source": [
    "dfnew=dfnew.rename(columns={\"Neighborhood\": \"PRI_NEIGH\"})\n",
    "\n",
    "merger2= pd.merge(dataa1,dfnew, how=\"inner\", on= \"PRI_NEIGH\")\n",
    "\n",
    "\n",
    "#merger3= pd.merge(merger2,suicide, how='inner', on= \"PRI_NEIGH\")"
   ]
  },
  {
   "cell_type": "code",
   "execution_count": 75,
   "id": "7b620f2a",
   "metadata": {},
   "outputs": [
    {
     "data": {
      "text/html": [
       "<div>\n",
       "<style scoped>\n",
       "    .dataframe tbody tr th:only-of-type {\n",
       "        vertical-align: middle;\n",
       "    }\n",
       "\n",
       "    .dataframe tbody tr th {\n",
       "        vertical-align: top;\n",
       "    }\n",
       "\n",
       "    .dataframe thead th {\n",
       "        text-align: right;\n",
       "    }\n",
       "</style>\n",
       "<table border=\"1\" class=\"dataframe\">\n",
       "  <thead>\n",
       "    <tr style=\"text-align: right;\">\n",
       "      <th></th>\n",
       "      <th>Redlined</th>\n",
       "      <th>Yellowlined</th>\n",
       "      <th>Bluelined</th>\n",
       "      <th>Greenlined</th>\n",
       "      <th>Canopy</th>\n",
       "      <th>Park</th>\n",
       "      <th>Total Area</th>\n",
       "      <th>Housing Energy Usage\\nElectricity Usage KWH/SQFT</th>\n",
       "      <th>% Owner Occupied</th>\n",
       "      <th>% Single Family</th>\n",
       "      <th>Sales per 100 residential parcels (AVG 2005-2021)</th>\n",
       "      <th>% Cost Burdened (owner + renter)</th>\n",
       "    </tr>\n",
       "  </thead>\n",
       "  <tbody>\n",
       "    <tr>\n",
       "      <th>Redlined</th>\n",
       "      <td>1.000000</td>\n",
       "      <td>-0.496569</td>\n",
       "      <td>-0.315496</td>\n",
       "      <td>-0.126598</td>\n",
       "      <td>-0.306989</td>\n",
       "      <td>-0.142447</td>\n",
       "      <td>-0.231429</td>\n",
       "      <td>0.017644</td>\n",
       "      <td>-0.324240</td>\n",
       "      <td>-0.250582</td>\n",
       "      <td>0.207986</td>\n",
       "      <td>0.218954</td>\n",
       "    </tr>\n",
       "    <tr>\n",
       "      <th>Yellowlined</th>\n",
       "      <td>-0.496569</td>\n",
       "      <td>1.000000</td>\n",
       "      <td>-0.030446</td>\n",
       "      <td>-0.053276</td>\n",
       "      <td>0.201914</td>\n",
       "      <td>-0.207719</td>\n",
       "      <td>0.047400</td>\n",
       "      <td>-0.179671</td>\n",
       "      <td>-0.050598</td>\n",
       "      <td>-0.214233</td>\n",
       "      <td>0.264696</td>\n",
       "      <td>0.104853</td>\n",
       "    </tr>\n",
       "    <tr>\n",
       "      <th>Bluelined</th>\n",
       "      <td>-0.315496</td>\n",
       "      <td>-0.030446</td>\n",
       "      <td>1.000000</td>\n",
       "      <td>0.145334</td>\n",
       "      <td>0.408606</td>\n",
       "      <td>-0.083365</td>\n",
       "      <td>-0.002572</td>\n",
       "      <td>-0.081215</td>\n",
       "      <td>0.214202</td>\n",
       "      <td>0.148425</td>\n",
       "      <td>-0.128434</td>\n",
       "      <td>-0.136826</td>\n",
       "    </tr>\n",
       "    <tr>\n",
       "      <th>Greenlined</th>\n",
       "      <td>-0.126598</td>\n",
       "      <td>-0.053276</td>\n",
       "      <td>0.145334</td>\n",
       "      <td>1.000000</td>\n",
       "      <td>0.449992</td>\n",
       "      <td>-0.034924</td>\n",
       "      <td>0.000682</td>\n",
       "      <td>-0.024192</td>\n",
       "      <td>0.316428</td>\n",
       "      <td>0.252765</td>\n",
       "      <td>-0.136541</td>\n",
       "      <td>-0.287016</td>\n",
       "    </tr>\n",
       "    <tr>\n",
       "      <th>Canopy</th>\n",
       "      <td>-0.306989</td>\n",
       "      <td>0.201914</td>\n",
       "      <td>0.408606</td>\n",
       "      <td>0.449992</td>\n",
       "      <td>1.000000</td>\n",
       "      <td>0.097040</td>\n",
       "      <td>0.073067</td>\n",
       "      <td>-0.282336</td>\n",
       "      <td>0.242909</td>\n",
       "      <td>0.277190</td>\n",
       "      <td>-0.060169</td>\n",
       "      <td>-0.186213</td>\n",
       "    </tr>\n",
       "    <tr>\n",
       "      <th>Park</th>\n",
       "      <td>-0.142447</td>\n",
       "      <td>-0.207719</td>\n",
       "      <td>-0.083365</td>\n",
       "      <td>-0.034924</td>\n",
       "      <td>0.097040</td>\n",
       "      <td>1.000000</td>\n",
       "      <td>-0.183748</td>\n",
       "      <td>0.046308</td>\n",
       "      <td>-0.407264</td>\n",
       "      <td>-0.391321</td>\n",
       "      <td>0.290136</td>\n",
       "      <td>0.236491</td>\n",
       "    </tr>\n",
       "    <tr>\n",
       "      <th>Total Area</th>\n",
       "      <td>-0.231429</td>\n",
       "      <td>0.047400</td>\n",
       "      <td>-0.002572</td>\n",
       "      <td>0.000682</td>\n",
       "      <td>0.073067</td>\n",
       "      <td>-0.183748</td>\n",
       "      <td>1.000000</td>\n",
       "      <td>-0.093529</td>\n",
       "      <td>0.084601</td>\n",
       "      <td>0.182520</td>\n",
       "      <td>-0.223136</td>\n",
       "      <td>0.048562</td>\n",
       "    </tr>\n",
       "    <tr>\n",
       "      <th>Housing Energy Usage\\nElectricity Usage KWH/SQFT</th>\n",
       "      <td>0.017644</td>\n",
       "      <td>-0.179671</td>\n",
       "      <td>-0.081215</td>\n",
       "      <td>-0.024192</td>\n",
       "      <td>-0.282336</td>\n",
       "      <td>0.046308</td>\n",
       "      <td>-0.093529</td>\n",
       "      <td>1.000000</td>\n",
       "      <td>-0.101065</td>\n",
       "      <td>-0.211351</td>\n",
       "      <td>0.064069</td>\n",
       "      <td>-0.108078</td>\n",
       "    </tr>\n",
       "    <tr>\n",
       "      <th>% Owner Occupied</th>\n",
       "      <td>-0.324240</td>\n",
       "      <td>-0.050598</td>\n",
       "      <td>0.214202</td>\n",
       "      <td>0.316428</td>\n",
       "      <td>0.242909</td>\n",
       "      <td>-0.407264</td>\n",
       "      <td>0.084601</td>\n",
       "      <td>-0.101065</td>\n",
       "      <td>1.000000</td>\n",
       "      <td>0.765527</td>\n",
       "      <td>-0.479531</td>\n",
       "      <td>-0.677080</td>\n",
       "    </tr>\n",
       "    <tr>\n",
       "      <th>% Single Family</th>\n",
       "      <td>-0.250582</td>\n",
       "      <td>-0.214233</td>\n",
       "      <td>0.148425</td>\n",
       "      <td>0.252765</td>\n",
       "      <td>0.277190</td>\n",
       "      <td>-0.391321</td>\n",
       "      <td>0.182520</td>\n",
       "      <td>-0.211351</td>\n",
       "      <td>0.765527</td>\n",
       "      <td>1.000000</td>\n",
       "      <td>-0.638888</td>\n",
       "      <td>-0.387506</td>\n",
       "    </tr>\n",
       "    <tr>\n",
       "      <th>Sales per 100 residential parcels (AVG 2005-2021)</th>\n",
       "      <td>0.207986</td>\n",
       "      <td>0.264696</td>\n",
       "      <td>-0.128434</td>\n",
       "      <td>-0.136541</td>\n",
       "      <td>-0.060169</td>\n",
       "      <td>0.290136</td>\n",
       "      <td>-0.223136</td>\n",
       "      <td>0.064069</td>\n",
       "      <td>-0.479531</td>\n",
       "      <td>-0.638888</td>\n",
       "      <td>1.000000</td>\n",
       "      <td>0.205003</td>\n",
       "    </tr>\n",
       "    <tr>\n",
       "      <th>% Cost Burdened (owner + renter)</th>\n",
       "      <td>0.218954</td>\n",
       "      <td>0.104853</td>\n",
       "      <td>-0.136826</td>\n",
       "      <td>-0.287016</td>\n",
       "      <td>-0.186213</td>\n",
       "      <td>0.236491</td>\n",
       "      <td>0.048562</td>\n",
       "      <td>-0.108078</td>\n",
       "      <td>-0.677080</td>\n",
       "      <td>-0.387506</td>\n",
       "      <td>0.205003</td>\n",
       "      <td>1.000000</td>\n",
       "    </tr>\n",
       "  </tbody>\n",
       "</table>\n",
       "</div>"
      ],
      "text/plain": [
       "                                                   Redlined   Yellowlined  \\\n",
       "Redlined                                           1.000000     -0.496569   \n",
       " Yellowlined                                      -0.496569      1.000000   \n",
       "Bluelined                                         -0.315496     -0.030446   \n",
       "Greenlined                                        -0.126598     -0.053276   \n",
       "Canopy                                            -0.306989      0.201914   \n",
       "Park                                              -0.142447     -0.207719   \n",
       "Total Area                                        -0.231429      0.047400   \n",
       "Housing Energy Usage\\nElectricity Usage KWH/SQFT   0.017644     -0.179671   \n",
       "% Owner Occupied                                  -0.324240     -0.050598   \n",
       "% Single Family                                   -0.250582     -0.214233   \n",
       "Sales per 100 residential parcels (AVG 2005-2021)  0.207986      0.264696   \n",
       "% Cost Burdened (owner + renter)                   0.218954      0.104853   \n",
       "\n",
       "                                                   Bluelined  Greenlined  \\\n",
       "Redlined                                           -0.315496   -0.126598   \n",
       " Yellowlined                                       -0.030446   -0.053276   \n",
       "Bluelined                                           1.000000    0.145334   \n",
       "Greenlined                                          0.145334    1.000000   \n",
       "Canopy                                              0.408606    0.449992   \n",
       "Park                                               -0.083365   -0.034924   \n",
       "Total Area                                         -0.002572    0.000682   \n",
       "Housing Energy Usage\\nElectricity Usage KWH/SQFT   -0.081215   -0.024192   \n",
       "% Owner Occupied                                    0.214202    0.316428   \n",
       "% Single Family                                     0.148425    0.252765   \n",
       "Sales per 100 residential parcels (AVG 2005-2021)  -0.128434   -0.136541   \n",
       "% Cost Burdened (owner + renter)                   -0.136826   -0.287016   \n",
       "\n",
       "                                                     Canopy      Park  \\\n",
       "Redlined                                          -0.306989 -0.142447   \n",
       " Yellowlined                                       0.201914 -0.207719   \n",
       "Bluelined                                          0.408606 -0.083365   \n",
       "Greenlined                                         0.449992 -0.034924   \n",
       "Canopy                                             1.000000  0.097040   \n",
       "Park                                               0.097040  1.000000   \n",
       "Total Area                                         0.073067 -0.183748   \n",
       "Housing Energy Usage\\nElectricity Usage KWH/SQFT  -0.282336  0.046308   \n",
       "% Owner Occupied                                   0.242909 -0.407264   \n",
       "% Single Family                                    0.277190 -0.391321   \n",
       "Sales per 100 residential parcels (AVG 2005-2021) -0.060169  0.290136   \n",
       "% Cost Burdened (owner + renter)                  -0.186213  0.236491   \n",
       "\n",
       "                                                   Total Area  \\\n",
       "Redlined                                            -0.231429   \n",
       " Yellowlined                                         0.047400   \n",
       "Bluelined                                           -0.002572   \n",
       "Greenlined                                           0.000682   \n",
       "Canopy                                               0.073067   \n",
       "Park                                                -0.183748   \n",
       "Total Area                                           1.000000   \n",
       "Housing Energy Usage\\nElectricity Usage KWH/SQFT    -0.093529   \n",
       "% Owner Occupied                                     0.084601   \n",
       "% Single Family                                      0.182520   \n",
       "Sales per 100 residential parcels (AVG 2005-2021)   -0.223136   \n",
       "% Cost Burdened (owner + renter)                     0.048562   \n",
       "\n",
       "                                                   Housing Energy Usage\\nElectricity Usage KWH/SQFT  \\\n",
       "Redlined                                                                                   0.017644   \n",
       " Yellowlined                                                                              -0.179671   \n",
       "Bluelined                                                                                 -0.081215   \n",
       "Greenlined                                                                                -0.024192   \n",
       "Canopy                                                                                    -0.282336   \n",
       "Park                                                                                       0.046308   \n",
       "Total Area                                                                                -0.093529   \n",
       "Housing Energy Usage\\nElectricity Usage KWH/SQFT                                           1.000000   \n",
       "% Owner Occupied                                                                          -0.101065   \n",
       "% Single Family                                                                           -0.211351   \n",
       "Sales per 100 residential parcels (AVG 2005-2021)                                          0.064069   \n",
       "% Cost Burdened (owner + renter)                                                          -0.108078   \n",
       "\n",
       "                                                   % Owner Occupied  \\\n",
       "Redlined                                                  -0.324240   \n",
       " Yellowlined                                              -0.050598   \n",
       "Bluelined                                                  0.214202   \n",
       "Greenlined                                                 0.316428   \n",
       "Canopy                                                     0.242909   \n",
       "Park                                                      -0.407264   \n",
       "Total Area                                                 0.084601   \n",
       "Housing Energy Usage\\nElectricity Usage KWH/SQFT          -0.101065   \n",
       "% Owner Occupied                                           1.000000   \n",
       "% Single Family                                            0.765527   \n",
       "Sales per 100 residential parcels (AVG 2005-2021)         -0.479531   \n",
       "% Cost Burdened (owner + renter)                          -0.677080   \n",
       "\n",
       "                                                   % Single Family  \\\n",
       "Redlined                                                 -0.250582   \n",
       " Yellowlined                                             -0.214233   \n",
       "Bluelined                                                 0.148425   \n",
       "Greenlined                                                0.252765   \n",
       "Canopy                                                    0.277190   \n",
       "Park                                                     -0.391321   \n",
       "Total Area                                                0.182520   \n",
       "Housing Energy Usage\\nElectricity Usage KWH/SQFT         -0.211351   \n",
       "% Owner Occupied                                          0.765527   \n",
       "% Single Family                                           1.000000   \n",
       "Sales per 100 residential parcels (AVG 2005-2021)        -0.638888   \n",
       "% Cost Burdened (owner + renter)                         -0.387506   \n",
       "\n",
       "                                                   Sales per 100 residential parcels (AVG 2005-2021)  \\\n",
       "Redlined                                                                                    0.207986   \n",
       " Yellowlined                                                                                0.264696   \n",
       "Bluelined                                                                                  -0.128434   \n",
       "Greenlined                                                                                 -0.136541   \n",
       "Canopy                                                                                     -0.060169   \n",
       "Park                                                                                        0.290136   \n",
       "Total Area                                                                                 -0.223136   \n",
       "Housing Energy Usage\\nElectricity Usage KWH/SQFT                                            0.064069   \n",
       "% Owner Occupied                                                                           -0.479531   \n",
       "% Single Family                                                                            -0.638888   \n",
       "Sales per 100 residential parcels (AVG 2005-2021)                                           1.000000   \n",
       "% Cost Burdened (owner + renter)                                                            0.205003   \n",
       "\n",
       "                                                   % Cost Burdened (owner + renter)  \n",
       "Redlined                                                                   0.218954  \n",
       " Yellowlined                                                               0.104853  \n",
       "Bluelined                                                                 -0.136826  \n",
       "Greenlined                                                                -0.287016  \n",
       "Canopy                                                                    -0.186213  \n",
       "Park                                                                       0.236491  \n",
       "Total Area                                                                 0.048562  \n",
       "Housing Energy Usage\\nElectricity Usage KWH/SQFT                          -0.108078  \n",
       "% Owner Occupied                                                          -0.677080  \n",
       "% Single Family                                                           -0.387506  \n",
       "Sales per 100 residential parcels (AVG 2005-2021)                          0.205003  \n",
       "% Cost Burdened (owner + renter)                                           1.000000  "
      ]
     },
     "execution_count": 75,
     "metadata": {},
     "output_type": "execute_result"
    }
   ],
   "source": [
    "merger2.corr()"
   ]
  },
  {
   "cell_type": "code",
   "execution_count": 78,
   "id": "b2a2c3d7",
   "metadata": {},
   "outputs": [],
   "source": [
    "merger3= pd.merge(merger2, suicide1, how='inner', on= \"PRI_NEIGH\")"
   ]
  },
  {
   "cell_type": "code",
   "execution_count": 79,
   "id": "7e1af45f",
   "metadata": {
    "scrolled": true
   },
   "outputs": [
    {
     "name": "stdout",
     "output_type": "stream",
     "text": [
      "<class 'pandas.core.frame.DataFrame'>\n",
      "Int64Index: 66 entries, 0 to 65\n",
      "Data columns (total 15 columns):\n",
      " #   Column                                             Non-Null Count  Dtype  \n",
      "---  ------                                             --------------  -----  \n",
      " 0   PRI_NEIGH                                          66 non-null     object \n",
      " 1   Redlined                                           66 non-null     float64\n",
      " 2    Yellowlined                                       66 non-null     float64\n",
      " 3   Bluelined                                          66 non-null     float64\n",
      " 4   Greenlined                                         66 non-null     float64\n",
      " 5   Canopy                                             66 non-null     float64\n",
      " 6   Park                                               66 non-null     float64\n",
      " 7   Total Area                                         66 non-null     float64\n",
      " 8   Average Housing Cost\n",
      "Median Sales Price 2021       27 non-null     object \n",
      " 9   Housing Energy Usage\n",
      "Electricity Usage KWH/SQFT    65 non-null     float64\n",
      " 10  % Owner Occupied                                   66 non-null     float64\n",
      " 11  % Single Family                                    66 non-null     float64\n",
      " 12  Sales per 100 residential parcels (AVG 2005-2021)  66 non-null     float64\n",
      " 13  % Cost Burdened (owner + renter)                   66 non-null     float64\n",
      " 14  Cdeath                                             66 non-null     int64  \n",
      "dtypes: float64(12), int64(1), object(2)\n",
      "memory usage: 8.2+ KB\n"
     ]
    }
   ],
   "source": [
    "merger3.info()"
   ]
  },
  {
   "cell_type": "markdown",
   "id": "d0113e04",
   "metadata": {},
   "source": [
    "Tasks:\n",
    "1-Merging in a way to lose the minimum data\n",
    "2-plot the quantiles maybe???\n",
    "3-Trying to do prediction for each of the new features using the previous ones\n",
    "4-maybe do the clustering again to see the difference"
   ]
  },
  {
   "cell_type": "code",
   "execution_count": 81,
   "id": "87908316",
   "metadata": {},
   "outputs": [
    {
     "data": {
      "text/html": [
       "<div>\n",
       "<style scoped>\n",
       "    .dataframe tbody tr th:only-of-type {\n",
       "        vertical-align: middle;\n",
       "    }\n",
       "\n",
       "    .dataframe tbody tr th {\n",
       "        vertical-align: top;\n",
       "    }\n",
       "\n",
       "    .dataframe thead th {\n",
       "        text-align: right;\n",
       "    }\n",
       "</style>\n",
       "<table border=\"1\" class=\"dataframe\">\n",
       "  <thead>\n",
       "    <tr style=\"text-align: right;\">\n",
       "      <th></th>\n",
       "      <th>Redlined</th>\n",
       "      <th>Yellowlined</th>\n",
       "      <th>Bluelined</th>\n",
       "      <th>Greenlined</th>\n",
       "      <th>Canopy</th>\n",
       "      <th>Park</th>\n",
       "      <th>Total Area</th>\n",
       "      <th>Housing Energy Usage\\nElectricity Usage KWH/SQFT</th>\n",
       "      <th>% Owner Occupied</th>\n",
       "      <th>% Single Family</th>\n",
       "      <th>Sales per 100 residential parcels (AVG 2005-2021)</th>\n",
       "      <th>% Cost Burdened (owner + renter)</th>\n",
       "      <th>Cdeath</th>\n",
       "    </tr>\n",
       "  </thead>\n",
       "  <tbody>\n",
       "    <tr>\n",
       "      <th>count</th>\n",
       "      <td>66.000000</td>\n",
       "      <td>66.000000</td>\n",
       "      <td>66.000000</td>\n",
       "      <td>66.000000</td>\n",
       "      <td>66.000000</td>\n",
       "      <td>66.000000</td>\n",
       "      <td>6.600000e+01</td>\n",
       "      <td>6.500000e+01</td>\n",
       "      <td>66.000000</td>\n",
       "      <td>66.000000</td>\n",
       "      <td>66.000000</td>\n",
       "      <td>66.000000</td>\n",
       "      <td>66.000000</td>\n",
       "    </tr>\n",
       "    <tr>\n",
       "      <th>mean</th>\n",
       "      <td>0.217424</td>\n",
       "      <td>0.321818</td>\n",
       "      <td>0.087273</td>\n",
       "      <td>0.003182</td>\n",
       "      <td>0.186042</td>\n",
       "      <td>0.063485</td>\n",
       "      <td>7.606640e+06</td>\n",
       "      <td>4.554900e+04</td>\n",
       "      <td>48.190909</td>\n",
       "      <td>36.993939</td>\n",
       "      <td>4.984848</td>\n",
       "      <td>41.187879</td>\n",
       "      <td>11.393939</td>\n",
       "    </tr>\n",
       "    <tr>\n",
       "      <th>std</th>\n",
       "      <td>0.248907</td>\n",
       "      <td>0.288470</td>\n",
       "      <td>0.179757</td>\n",
       "      <td>0.021207</td>\n",
       "      <td>0.068721</td>\n",
       "      <td>0.077011</td>\n",
       "      <td>5.400650e+06</td>\n",
       "      <td>1.462592e+05</td>\n",
       "      <td>19.344574</td>\n",
       "      <td>27.733739</td>\n",
       "      <td>1.287244</td>\n",
       "      <td>9.373391</td>\n",
       "      <td>8.966397</td>\n",
       "    </tr>\n",
       "    <tr>\n",
       "      <th>min</th>\n",
       "      <td>0.000000</td>\n",
       "      <td>0.000000</td>\n",
       "      <td>0.000000</td>\n",
       "      <td>0.000000</td>\n",
       "      <td>0.035900</td>\n",
       "      <td>0.000000</td>\n",
       "      <td>1.571300e+06</td>\n",
       "      <td>1.008114e+04</td>\n",
       "      <td>7.100000</td>\n",
       "      <td>0.000000</td>\n",
       "      <td>3.100000</td>\n",
       "      <td>19.400000</td>\n",
       "      <td>1.000000</td>\n",
       "    </tr>\n",
       "    <tr>\n",
       "      <th>25%</th>\n",
       "      <td>0.000000</td>\n",
       "      <td>0.000000</td>\n",
       "      <td>0.000000</td>\n",
       "      <td>0.000000</td>\n",
       "      <td>0.147600</td>\n",
       "      <td>0.020000</td>\n",
       "      <td>4.512689e+06</td>\n",
       "      <td>1.538694e+04</td>\n",
       "      <td>35.975000</td>\n",
       "      <td>12.250000</td>\n",
       "      <td>4.000000</td>\n",
       "      <td>34.275000</td>\n",
       "      <td>5.000000</td>\n",
       "    </tr>\n",
       "    <tr>\n",
       "      <th>50%</th>\n",
       "      <td>0.110000</td>\n",
       "      <td>0.295000</td>\n",
       "      <td>0.000000</td>\n",
       "      <td>0.000000</td>\n",
       "      <td>0.188950</td>\n",
       "      <td>0.030000</td>\n",
       "      <td>6.624313e+06</td>\n",
       "      <td>1.782347e+04</td>\n",
       "      <td>45.850000</td>\n",
       "      <td>29.000000</td>\n",
       "      <td>4.700000</td>\n",
       "      <td>40.850000</td>\n",
       "      <td>9.000000</td>\n",
       "    </tr>\n",
       "    <tr>\n",
       "      <th>75%</th>\n",
       "      <td>0.405000</td>\n",
       "      <td>0.570000</td>\n",
       "      <td>0.117500</td>\n",
       "      <td>0.000000</td>\n",
       "      <td>0.218675</td>\n",
       "      <td>0.090000</td>\n",
       "      <td>9.137836e+06</td>\n",
       "      <td>2.392727e+04</td>\n",
       "      <td>64.075000</td>\n",
       "      <td>65.200000</td>\n",
       "      <td>5.675000</td>\n",
       "      <td>47.475000</td>\n",
       "      <td>16.000000</td>\n",
       "    </tr>\n",
       "    <tr>\n",
       "      <th>max</th>\n",
       "      <td>0.860000</td>\n",
       "      <td>0.880000</td>\n",
       "      <td>1.000000</td>\n",
       "      <td>0.170000</td>\n",
       "      <td>0.441500</td>\n",
       "      <td>0.370000</td>\n",
       "      <td>3.437963e+07</td>\n",
       "      <td>1.154623e+06</td>\n",
       "      <td>85.800000</td>\n",
       "      <td>86.800000</td>\n",
       "      <td>8.000000</td>\n",
       "      <td>62.200000</td>\n",
       "      <td>42.000000</td>\n",
       "    </tr>\n",
       "  </tbody>\n",
       "</table>\n",
       "</div>"
      ],
      "text/plain": [
       "        Redlined   Yellowlined  Bluelined  Greenlined     Canopy       Park  \\\n",
       "count  66.000000     66.000000  66.000000   66.000000  66.000000  66.000000   \n",
       "mean    0.217424      0.321818   0.087273    0.003182   0.186042   0.063485   \n",
       "std     0.248907      0.288470   0.179757    0.021207   0.068721   0.077011   \n",
       "min     0.000000      0.000000   0.000000    0.000000   0.035900   0.000000   \n",
       "25%     0.000000      0.000000   0.000000    0.000000   0.147600   0.020000   \n",
       "50%     0.110000      0.295000   0.000000    0.000000   0.188950   0.030000   \n",
       "75%     0.405000      0.570000   0.117500    0.000000   0.218675   0.090000   \n",
       "max     0.860000      0.880000   1.000000    0.170000   0.441500   0.370000   \n",
       "\n",
       "         Total Area  Housing Energy Usage\\nElectricity Usage KWH/SQFT  \\\n",
       "count  6.600000e+01                                      6.500000e+01   \n",
       "mean   7.606640e+06                                      4.554900e+04   \n",
       "std    5.400650e+06                                      1.462592e+05   \n",
       "min    1.571300e+06                                      1.008114e+04   \n",
       "25%    4.512689e+06                                      1.538694e+04   \n",
       "50%    6.624313e+06                                      1.782347e+04   \n",
       "75%    9.137836e+06                                      2.392727e+04   \n",
       "max    3.437963e+07                                      1.154623e+06   \n",
       "\n",
       "       % Owner Occupied  % Single Family  \\\n",
       "count         66.000000        66.000000   \n",
       "mean          48.190909        36.993939   \n",
       "std           19.344574        27.733739   \n",
       "min            7.100000         0.000000   \n",
       "25%           35.975000        12.250000   \n",
       "50%           45.850000        29.000000   \n",
       "75%           64.075000        65.200000   \n",
       "max           85.800000        86.800000   \n",
       "\n",
       "       Sales per 100 residential parcels (AVG 2005-2021)  \\\n",
       "count                                          66.000000   \n",
       "mean                                            4.984848   \n",
       "std                                             1.287244   \n",
       "min                                             3.100000   \n",
       "25%                                             4.000000   \n",
       "50%                                             4.700000   \n",
       "75%                                             5.675000   \n",
       "max                                             8.000000   \n",
       "\n",
       "       % Cost Burdened (owner + renter)     Cdeath  \n",
       "count                         66.000000  66.000000  \n",
       "mean                          41.187879  11.393939  \n",
       "std                            9.373391   8.966397  \n",
       "min                           19.400000   1.000000  \n",
       "25%                           34.275000   5.000000  \n",
       "50%                           40.850000   9.000000  \n",
       "75%                           47.475000  16.000000  \n",
       "max                           62.200000  42.000000  "
      ]
     },
     "execution_count": 81,
     "metadata": {},
     "output_type": "execute_result"
    }
   ],
   "source": [
    "merger3.describe()"
   ]
  },
  {
   "cell_type": "code",
   "execution_count": 82,
   "id": "c3fee131",
   "metadata": {},
   "outputs": [],
   "source": [
    "merger3.drop(\"Average Housing Cost\\nMedian Sales Price 2021\",axis=1,inplace=True)"
   ]
  },
  {
   "cell_type": "code",
   "execution_count": 110,
   "id": "f2c5bfa5",
   "metadata": {},
   "outputs": [],
   "source": [
    "predictors=[\"Redlined\",' Yellowlined','Bluelined','Greenlined','Canopy']\n",
    "x=merger3[predictors]\n",
    "y=merger3[\"Sales per 100 residential parcels (AVG 2005-2021)\"]"
   ]
  },
  {
   "cell_type": "code",
   "execution_count": 111,
   "id": "06cedeb6",
   "metadata": {},
   "outputs": [
    {
     "name": "stdout",
     "output_type": "stream",
     "text": [
      "                                            OLS Regression Results                                           \n",
      "=============================================================================================================\n",
      "Dep. Variable:     Sales per 100 residential parcels (AVG 2005-2021)   R-squared:                       0.230\n",
      "Model:                                                           OLS   Adj. R-squared:                  0.165\n",
      "Method:                                                Least Squares   F-statistic:                     3.576\n",
      "Date:                                               Thu, 04 Aug 2022   Prob (F-statistic):            0.00677\n",
      "Time:                                                       21:04:30   Log-Likelihood:                -101.20\n",
      "No. Observations:                                                 66   AIC:                             214.4\n",
      "Df Residuals:                                                     60   BIC:                             227.5\n",
      "Df Model:                                                          5                                         \n",
      "Covariance Type:                                           nonrobust                                         \n",
      "================================================================================\n",
      "                   coef    std err          t      P>|t|      [0.025      0.975]\n",
      "--------------------------------------------------------------------------------\n",
      "const            3.5407      0.579      6.113      0.000       2.382       4.699\n",
      "Redlined         2.8086      0.793      3.540      0.001       1.222       4.396\n",
      " Yellowlined     2.4020      0.673      3.568      0.001       1.055       3.749\n",
      "Bluelined        0.9051      1.060      0.854      0.397      -1.216       3.026\n",
      "Greenlined      -3.0743      7.904     -0.389      0.699     -18.884      12.735\n",
      "Canopy          -0.0467      2.885     -0.016      0.987      -5.817       5.723\n",
      "==============================================================================\n",
      "Omnibus:                        5.647   Durbin-Watson:                   1.513\n",
      "Prob(Omnibus):                  0.059   Jarque-Bera (JB):                5.066\n",
      "Skew:                           0.671   Prob(JB):                       0.0794\n",
      "Kurtosis:                       3.199   Cond. No.                         60.8\n",
      "==============================================================================\n",
      "\n",
      "Notes:\n",
      "[1] Standard Errors assume that the covariance matrix of the errors is correctly specified.\n"
     ]
    },
    {
     "name": "stderr",
     "output_type": "stream",
     "text": [
      "/opt/anaconda3/lib/python3.9/site-packages/statsmodels/tsa/tsatools.py:142: FutureWarning: In a future version of pandas all arguments of concat except for the argument 'objs' will be keyword-only\n",
      "  x = pd.concat(x[::order], 1)\n"
     ]
    }
   ],
   "source": [
    "def lineartest(x,y):    \n",
    "    import statsmodels.api as sm\n",
    "\n",
    "    #add constant to predictor variables\n",
    "    x = sm.add_constant(x)\n",
    "\n",
    "    #fit linear regression model\n",
    "    model = sm.OLS(y, x).fit()\n",
    "\n",
    "    #view model summary\n",
    "    print(model.summary())\n",
    "\n"
   ]
  },
  {
   "cell_type": "code",
   "execution_count": 97,
   "id": "83d6218f",
   "metadata": {},
   "outputs": [
    {
     "data": {
      "text/plain": [
       "<matplotlib.collections.PathCollection at 0x7f88e5d8c640>"
      ]
     },
     "execution_count": 97,
     "metadata": {},
     "output_type": "execute_result"
    },
    {
     "data": {
      "image/png": "[encoded data removed]",
      "text/plain": [
       "<Figure size 432x288 with 1 Axes>"
      ]
     },
     "metadata": {
      "needs_background": "light"
     },
     "output_type": "display_data"
    }
   ],
   "source": [
    "plt.scatter(pred,y)\n"
   ]
  },
  {
   "cell_type": "code",
   "execution_count": null,
   "id": "36693b32",
   "metadata": {},
   "outputs": [],
   "source": []
  }
 ],
 "metadata": {
  "kernelspec": {
   "display_name": "Python 3 (ipykernel)",
   "language": "python",
   "name": "python3"
  },
  "language_info": {
   "codemirror_mode": {
    "name": "ipython",
    "version": 3
   },
   "file_extension": ".py",
   "mimetype": "text/x-python",
   "name": "python",
   "nbconvert_exporter": "python",
   "pygments_lexer": "ipython3",
   "version": "3.9.7"
  }
 },
 "nbformat": 4,
 "nbformat_minor": 5
}
