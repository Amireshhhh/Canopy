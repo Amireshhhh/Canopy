{
 "cells": [
  {
   "cell_type": "code",
   "execution_count": 16,
   "id": "931caf85",
   "metadata": {},
   "outputs": [],
   "source": [
    "import PIL\n",
    "import os"
   ]
  },
  {
   "cell_type": "code",
   "execution_count": 23,
   "id": "ca3cc28e",
   "metadata": {},
   "outputs": [],
   "source": [
    "def image_data(img):\n",
    "    area=0\n",
    "    canopy=0\n",
    "    for x in range(im.width):\n",
    "        for y in range(im.height):\n",
    "            pixel= im.getpixel((x,y))\n",
    "            #checking if the pixel belongs to the boundry or in the area\n",
    "            if(pixel != (255,255,255,0)):\n",
    "                #counting the area pixels here\n",
    "                area = area+1\n",
    "                if(pixel != (255,255,255,255)):\n",
    "                 #counting the canopy(black) pixels   \n",
    "                    canopy=canopy+1\n",
    "    ratio= area/canopy\n",
    "\n",
    "    return area,canopy,ratio"
   ]
  },
  {
   "cell_type": "code",
   "execution_count": null,
   "id": "0d73013e",
   "metadata": {},
   "outputs": [],
   "source": []
  }
 ],
 "metadata": {},
 "nbformat": 4,
 "nbformat_minor": 5
}
